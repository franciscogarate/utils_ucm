{
 "cells": [
  {
   "cell_type": "markdown",
   "id": "6216da02",
   "metadata": {},
   "source": [
    "## Ejercicio 8"
   ]
  },
  {
   "cell_type": "code",
   "execution_count": 1,
   "id": "d15121f5",
   "metadata": {},
   "outputs": [],
   "source": [
    "import pandas as pd\n",
    "import numpy as np\n",
    "import matplotlib.pyplot as plt"
   ]
  },
  {
   "cell_type": "code",
   "execution_count": 2,
   "id": "67f7a7a0",
   "metadata": {},
   "outputs": [],
   "source": [
    "opcion = 1\n",
    "freq = 'Y'"
   ]
  },
  {
   "cell_type": "code",
   "execution_count": 4,
   "id": "db7c5ea6",
   "metadata": {},
   "outputs": [
    {
     "data": {
      "text/html": [
       "<div>\n",
       "<style scoped>\n",
       "    .dataframe tbody tr th:only-of-type {\n",
       "        vertical-align: middle;\n",
       "    }\n",
       "\n",
       "    .dataframe tbody tr th {\n",
       "        vertical-align: top;\n",
       "    }\n",
       "\n",
       "    .dataframe thead th {\n",
       "        text-align: right;\n",
       "    }\n",
       "</style>\n",
       "<table border=\"1\" class=\"dataframe\">\n",
       "  <thead>\n",
       "    <tr style=\"text-align: right;\">\n",
       "      <th></th>\n",
       "      <th>Accident_Date</th>\n",
       "      <th>Payment_Date</th>\n",
       "      <th>Indemnity</th>\n",
       "    </tr>\n",
       "  </thead>\n",
       "  <tbody>\n",
       "    <tr>\n",
       "      <th>0</th>\n",
       "      <td>1992-06-30</td>\n",
       "      <td>1992-06-30</td>\n",
       "      <td>5445</td>\n",
       "    </tr>\n",
       "    <tr>\n",
       "      <th>1</th>\n",
       "      <td>1993-06-30</td>\n",
       "      <td>1993-06-30</td>\n",
       "      <td>5847</td>\n",
       "    </tr>\n",
       "    <tr>\n",
       "      <th>2</th>\n",
       "      <td>1994-06-30</td>\n",
       "      <td>1994-06-30</td>\n",
       "      <td>5981</td>\n",
       "    </tr>\n",
       "    <tr>\n",
       "      <th>3</th>\n",
       "      <td>1995-06-30</td>\n",
       "      <td>1995-06-30</td>\n",
       "      <td>7835</td>\n",
       "    </tr>\n",
       "    <tr>\n",
       "      <th>4</th>\n",
       "      <td>1996-06-30</td>\n",
       "      <td>1996-06-30</td>\n",
       "      <td>9763</td>\n",
       "    </tr>\n",
       "  </tbody>\n",
       "</table>\n",
       "</div>"
      ],
      "text/plain": [
       "  Accident_Date Payment_Date  Indemnity\n",
       "0    1992-06-30   1992-06-30       5445\n",
       "1    1993-06-30   1993-06-30       5847\n",
       "2    1994-06-30   1994-06-30       5981\n",
       "3    1995-06-30   1995-06-30       7835\n",
       "4    1996-06-30   1996-06-30       9763"
      ]
     },
     "execution_count": 4,
     "metadata": {},
     "output_type": "execute_result"
    }
   ],
   "source": [
    "data = pd.read_excel('../data/Ejercicio_8_datos.xlsx')\n",
    "data.head()"
   ]
  },
  {
   "cell_type": "code",
   "execution_count": 846,
   "id": "86782ede",
   "metadata": {},
   "outputs": [
    {
     "name": "stdout",
     "output_type": "stream",
     "text": [
      "Accident_Date    False\n",
      "Payment_Date     False\n",
      "Indemnity        False\n",
      "dtype: bool\n"
     ]
    }
   ],
   "source": [
    "# Check for missing data\n",
    "print(data.isnull().any())"
   ]
  },
  {
   "cell_type": "code",
   "execution_count": 847,
   "id": "7e3c70b2",
   "metadata": {},
   "outputs": [],
   "source": [
    "data['Payment_Date'] = data['Payment_Date'].dt.to_period(freq)\n",
    "data['Accident_Date'] = data['Accident_Date'].dt.to_period(freq)"
   ]
  },
  {
   "cell_type": "code",
   "execution_count": 848,
   "id": "bf362119",
   "metadata": {},
   "outputs": [
    {
     "data": {
      "text/html": [
       "<div>\n",
       "<style scoped>\n",
       "    .dataframe tbody tr th:only-of-type {\n",
       "        vertical-align: middle;\n",
       "    }\n",
       "\n",
       "    .dataframe tbody tr th {\n",
       "        vertical-align: top;\n",
       "    }\n",
       "\n",
       "    .dataframe thead th {\n",
       "        text-align: right;\n",
       "    }\n",
       "</style>\n",
       "<table border=\"1\" class=\"dataframe\">\n",
       "  <thead>\n",
       "    <tr style=\"text-align: right;\">\n",
       "      <th></th>\n",
       "      <th>Accident_Date</th>\n",
       "      <th>Payment_Date</th>\n",
       "      <th>Indemnity</th>\n",
       "      <th>Dev</th>\n",
       "    </tr>\n",
       "  </thead>\n",
       "  <tbody>\n",
       "    <tr>\n",
       "      <th>0</th>\n",
       "      <td>1992</td>\n",
       "      <td>1992</td>\n",
       "      <td>5445</td>\n",
       "      <td>0</td>\n",
       "    </tr>\n",
       "    <tr>\n",
       "      <th>1</th>\n",
       "      <td>1993</td>\n",
       "      <td>1993</td>\n",
       "      <td>5847</td>\n",
       "      <td>0</td>\n",
       "    </tr>\n",
       "    <tr>\n",
       "      <th>2</th>\n",
       "      <td>1994</td>\n",
       "      <td>1994</td>\n",
       "      <td>5981</td>\n",
       "      <td>0</td>\n",
       "    </tr>\n",
       "    <tr>\n",
       "      <th>3</th>\n",
       "      <td>1995</td>\n",
       "      <td>1995</td>\n",
       "      <td>7835</td>\n",
       "      <td>0</td>\n",
       "    </tr>\n",
       "    <tr>\n",
       "      <th>4</th>\n",
       "      <td>1996</td>\n",
       "      <td>1996</td>\n",
       "      <td>9763</td>\n",
       "      <td>0</td>\n",
       "    </tr>\n",
       "  </tbody>\n",
       "</table>\n",
       "</div>"
      ],
      "text/plain": [
       "  Accident_Date Payment_Date  Indemnity  Dev\n",
       "0          1992         1992       5445    0\n",
       "1          1993         1993       5847    0\n",
       "2          1994         1994       5981    0\n",
       "3          1995         1995       7835    0\n",
       "4          1996         1996       9763    0"
      ]
     },
     "execution_count": 848,
     "metadata": {},
     "output_type": "execute_result"
    }
   ],
   "source": [
    "data['Dev'] = (data['Payment_Date'] - data['Accident_Date']).apply(lambda x: x.n)\n",
    "data.head()"
   ]
  },
  {
   "cell_type": "code",
   "execution_count": 849,
   "id": "b0cf380a",
   "metadata": {},
   "outputs": [],
   "source": [
    "#data.drop(data[data.Dev<0].index, inplace=True)"
   ]
  },
  {
   "cell_type": "code",
   "execution_count": 850,
   "id": "d53efdd7",
   "metadata": {},
   "outputs": [
    {
     "data": {
      "text/html": [
       "<div>\n",
       "<style scoped>\n",
       "    .dataframe tbody tr th:only-of-type {\n",
       "        vertical-align: middle;\n",
       "    }\n",
       "\n",
       "    .dataframe tbody tr th {\n",
       "        vertical-align: top;\n",
       "    }\n",
       "\n",
       "    .dataframe thead th {\n",
       "        text-align: right;\n",
       "    }\n",
       "</style>\n",
       "<table border=\"1\" class=\"dataframe\">\n",
       "  <thead>\n",
       "    <tr style=\"text-align: right;\">\n",
       "      <th></th>\n",
       "      <th>Accident_Date</th>\n",
       "      <th>Dev</th>\n",
       "      <th>Indemnity</th>\n",
       "    </tr>\n",
       "  </thead>\n",
       "  <tbody>\n",
       "    <tr>\n",
       "      <th>0</th>\n",
       "      <td>1992</td>\n",
       "      <td>0</td>\n",
       "      <td>5445</td>\n",
       "    </tr>\n",
       "    <tr>\n",
       "      <th>1</th>\n",
       "      <td>1992</td>\n",
       "      <td>1</td>\n",
       "      <td>3157</td>\n",
       "    </tr>\n",
       "    <tr>\n",
       "      <th>2</th>\n",
       "      <td>1992</td>\n",
       "      <td>2</td>\n",
       "      <td>2450</td>\n",
       "    </tr>\n",
       "    <tr>\n",
       "      <th>3</th>\n",
       "      <td>1992</td>\n",
       "      <td>3</td>\n",
       "      <td>1412</td>\n",
       "    </tr>\n",
       "    <tr>\n",
       "      <th>4</th>\n",
       "      <td>1992</td>\n",
       "      <td>4</td>\n",
       "      <td>600</td>\n",
       "    </tr>\n",
       "  </tbody>\n",
       "</table>\n",
       "</div>"
      ],
      "text/plain": [
       "  Accident_Date  Dev  Indemnity\n",
       "0          1992    0       5445\n",
       "1          1992    1       3157\n",
       "2          1992    2       2450\n",
       "3          1992    3       1412\n",
       "4          1992    4        600"
      ]
     },
     "execution_count": 850,
     "metadata": {},
     "output_type": "execute_result"
    }
   ],
   "source": [
    "datagg = data.groupby(['Accident_Date','Dev']).agg({'Indemnity':'sum'}).reset_index()\n",
    "datagg.head()"
   ]
  },
  {
   "cell_type": "code",
   "execution_count": 851,
   "id": "14303e7e",
   "metadata": {},
   "outputs": [
    {
     "data": {
      "text/html": [
       "<div>\n",
       "<style scoped>\n",
       "    .dataframe tbody tr th:only-of-type {\n",
       "        vertical-align: middle;\n",
       "    }\n",
       "\n",
       "    .dataframe tbody tr th {\n",
       "        vertical-align: top;\n",
       "    }\n",
       "\n",
       "    .dataframe thead th {\n",
       "        text-align: right;\n",
       "    }\n",
       "</style>\n",
       "<table border=\"1\" class=\"dataframe\">\n",
       "  <thead>\n",
       "    <tr style=\"text-align: right;\">\n",
       "      <th>Dev</th>\n",
       "      <th>0</th>\n",
       "      <th>1</th>\n",
       "      <th>2</th>\n",
       "      <th>3</th>\n",
       "      <th>4</th>\n",
       "      <th>5</th>\n",
       "      <th>6</th>\n",
       "      <th>7</th>\n",
       "    </tr>\n",
       "    <tr>\n",
       "      <th>Accident_Date</th>\n",
       "      <th></th>\n",
       "      <th></th>\n",
       "      <th></th>\n",
       "      <th></th>\n",
       "      <th></th>\n",
       "      <th></th>\n",
       "      <th></th>\n",
       "      <th></th>\n",
       "    </tr>\n",
       "  </thead>\n",
       "  <tbody>\n",
       "    <tr>\n",
       "      <th>1992</th>\n",
       "      <td>5445.0</td>\n",
       "      <td>3157.0</td>\n",
       "      <td>2450.0</td>\n",
       "      <td>1412.0</td>\n",
       "      <td>600.0</td>\n",
       "      <td>352.0</td>\n",
       "      <td>431.0</td>\n",
       "      <td>185.0</td>\n",
       "    </tr>\n",
       "    <tr>\n",
       "      <th>1993</th>\n",
       "      <td>5847.0</td>\n",
       "      <td>3486.0</td>\n",
       "      <td>1366.0</td>\n",
       "      <td>848.0</td>\n",
       "      <td>1045.0</td>\n",
       "      <td>1054.0</td>\n",
       "      <td>369.0</td>\n",
       "      <td>NaN</td>\n",
       "    </tr>\n",
       "    <tr>\n",
       "      <th>1994</th>\n",
       "      <td>5981.0</td>\n",
       "      <td>4854.0</td>\n",
       "      <td>1948.0</td>\n",
       "      <td>2554.0</td>\n",
       "      <td>1680.0</td>\n",
       "      <td>489.0</td>\n",
       "      <td>NaN</td>\n",
       "      <td>NaN</td>\n",
       "    </tr>\n",
       "    <tr>\n",
       "      <th>1995</th>\n",
       "      <td>7835.0</td>\n",
       "      <td>4453.0</td>\n",
       "      <td>3888.0</td>\n",
       "      <td>3335.0</td>\n",
       "      <td>2088.0</td>\n",
       "      <td>NaN</td>\n",
       "      <td>NaN</td>\n",
       "      <td>NaN</td>\n",
       "    </tr>\n",
       "    <tr>\n",
       "      <th>1996</th>\n",
       "      <td>9763.0</td>\n",
       "      <td>6517.0</td>\n",
       "      <td>3563.0</td>\n",
       "      <td>3984.0</td>\n",
       "      <td>NaN</td>\n",
       "      <td>NaN</td>\n",
       "      <td>NaN</td>\n",
       "      <td>NaN</td>\n",
       "    </tr>\n",
       "    <tr>\n",
       "      <th>1997</th>\n",
       "      <td>10745.0</td>\n",
       "      <td>6184.0</td>\n",
       "      <td>4549.0</td>\n",
       "      <td>NaN</td>\n",
       "      <td>NaN</td>\n",
       "      <td>NaN</td>\n",
       "      <td>NaN</td>\n",
       "      <td>NaN</td>\n",
       "    </tr>\n",
       "    <tr>\n",
       "      <th>1998</th>\n",
       "      <td>14137.0</td>\n",
       "      <td>8116.0</td>\n",
       "      <td>NaN</td>\n",
       "      <td>NaN</td>\n",
       "      <td>NaN</td>\n",
       "      <td>NaN</td>\n",
       "      <td>NaN</td>\n",
       "      <td>NaN</td>\n",
       "    </tr>\n",
       "    <tr>\n",
       "      <th>1999</th>\n",
       "      <td>15162.0</td>\n",
       "      <td>NaN</td>\n",
       "      <td>NaN</td>\n",
       "      <td>NaN</td>\n",
       "      <td>NaN</td>\n",
       "      <td>NaN</td>\n",
       "      <td>NaN</td>\n",
       "      <td>NaN</td>\n",
       "    </tr>\n",
       "  </tbody>\n",
       "</table>\n",
       "</div>"
      ],
      "text/plain": [
       "Dev                  0       1       2       3       4       5      6      7\n",
       "Accident_Date                                                               \n",
       "1992            5445.0  3157.0  2450.0  1412.0   600.0   352.0  431.0  185.0\n",
       "1993            5847.0  3486.0  1366.0   848.0  1045.0  1054.0  369.0    NaN\n",
       "1994            5981.0  4854.0  1948.0  2554.0  1680.0   489.0    NaN    NaN\n",
       "1995            7835.0  4453.0  3888.0  3335.0  2088.0     NaN    NaN    NaN\n",
       "1996            9763.0  6517.0  3563.0  3984.0     NaN     NaN    NaN    NaN\n",
       "1997           10745.0  6184.0  4549.0     NaN     NaN     NaN    NaN    NaN\n",
       "1998           14137.0  8116.0     NaN     NaN     NaN     NaN    NaN    NaN\n",
       "1999           15162.0     NaN     NaN     NaN     NaN     NaN    NaN    NaN"
      ]
     },
     "execution_count": 851,
     "metadata": {},
     "output_type": "execute_result"
    }
   ],
   "source": [
    "triangle = datagg.pivot(index='Accident_Date',columns='Dev',values='Indemnity')\n",
    "triangle"
   ]
  },
  {
   "cell_type": "code",
   "execution_count": 852,
   "id": "7c8a316f",
   "metadata": {},
   "outputs": [
    {
     "data": {
      "text/html": [
       "<div>\n",
       "<style scoped>\n",
       "    .dataframe tbody tr th:only-of-type {\n",
       "        vertical-align: middle;\n",
       "    }\n",
       "\n",
       "    .dataframe tbody tr th {\n",
       "        vertical-align: top;\n",
       "    }\n",
       "\n",
       "    .dataframe thead th {\n",
       "        text-align: right;\n",
       "    }\n",
       "</style>\n",
       "<table border=\"1\" class=\"dataframe\">\n",
       "  <thead>\n",
       "    <tr style=\"text-align: right;\">\n",
       "      <th>Dev</th>\n",
       "      <th>0</th>\n",
       "      <th>1</th>\n",
       "      <th>2</th>\n",
       "      <th>3</th>\n",
       "      <th>4</th>\n",
       "      <th>5</th>\n",
       "      <th>6</th>\n",
       "      <th>7</th>\n",
       "    </tr>\n",
       "    <tr>\n",
       "      <th>Accident_Date</th>\n",
       "      <th></th>\n",
       "      <th></th>\n",
       "      <th></th>\n",
       "      <th></th>\n",
       "      <th></th>\n",
       "      <th></th>\n",
       "      <th></th>\n",
       "      <th></th>\n",
       "    </tr>\n",
       "  </thead>\n",
       "  <tbody>\n",
       "    <tr>\n",
       "      <th>1992</th>\n",
       "      <td>5445.0</td>\n",
       "      <td>8602.0</td>\n",
       "      <td>11052.0</td>\n",
       "      <td>12464.0</td>\n",
       "      <td>13064.0</td>\n",
       "      <td>13416.0</td>\n",
       "      <td>13847.0</td>\n",
       "      <td>14032.0</td>\n",
       "    </tr>\n",
       "    <tr>\n",
       "      <th>1993</th>\n",
       "      <td>5847.0</td>\n",
       "      <td>9333.0</td>\n",
       "      <td>10699.0</td>\n",
       "      <td>11547.0</td>\n",
       "      <td>12592.0</td>\n",
       "      <td>13646.0</td>\n",
       "      <td>14015.0</td>\n",
       "      <td>NaN</td>\n",
       "    </tr>\n",
       "    <tr>\n",
       "      <th>1994</th>\n",
       "      <td>5981.0</td>\n",
       "      <td>10835.0</td>\n",
       "      <td>12783.0</td>\n",
       "      <td>15337.0</td>\n",
       "      <td>17017.0</td>\n",
       "      <td>17506.0</td>\n",
       "      <td>NaN</td>\n",
       "      <td>NaN</td>\n",
       "    </tr>\n",
       "    <tr>\n",
       "      <th>1995</th>\n",
       "      <td>7835.0</td>\n",
       "      <td>12288.0</td>\n",
       "      <td>16176.0</td>\n",
       "      <td>19511.0</td>\n",
       "      <td>21599.0</td>\n",
       "      <td>NaN</td>\n",
       "      <td>NaN</td>\n",
       "      <td>NaN</td>\n",
       "    </tr>\n",
       "    <tr>\n",
       "      <th>1996</th>\n",
       "      <td>9763.0</td>\n",
       "      <td>16280.0</td>\n",
       "      <td>19843.0</td>\n",
       "      <td>23827.0</td>\n",
       "      <td>NaN</td>\n",
       "      <td>NaN</td>\n",
       "      <td>NaN</td>\n",
       "      <td>NaN</td>\n",
       "    </tr>\n",
       "    <tr>\n",
       "      <th>1997</th>\n",
       "      <td>10745.0</td>\n",
       "      <td>16929.0</td>\n",
       "      <td>21478.0</td>\n",
       "      <td>NaN</td>\n",
       "      <td>NaN</td>\n",
       "      <td>NaN</td>\n",
       "      <td>NaN</td>\n",
       "      <td>NaN</td>\n",
       "    </tr>\n",
       "    <tr>\n",
       "      <th>1998</th>\n",
       "      <td>14137.0</td>\n",
       "      <td>22253.0</td>\n",
       "      <td>NaN</td>\n",
       "      <td>NaN</td>\n",
       "      <td>NaN</td>\n",
       "      <td>NaN</td>\n",
       "      <td>NaN</td>\n",
       "      <td>NaN</td>\n",
       "    </tr>\n",
       "    <tr>\n",
       "      <th>1999</th>\n",
       "      <td>15162.0</td>\n",
       "      <td>NaN</td>\n",
       "      <td>NaN</td>\n",
       "      <td>NaN</td>\n",
       "      <td>NaN</td>\n",
       "      <td>NaN</td>\n",
       "      <td>NaN</td>\n",
       "      <td>NaN</td>\n",
       "    </tr>\n",
       "  </tbody>\n",
       "</table>\n",
       "</div>"
      ],
      "text/plain": [
       "Dev                  0        1        2        3        4        5        6  \\\n",
       "Accident_Date                                                                  \n",
       "1992            5445.0   8602.0  11052.0  12464.0  13064.0  13416.0  13847.0   \n",
       "1993            5847.0   9333.0  10699.0  11547.0  12592.0  13646.0  14015.0   \n",
       "1994            5981.0  10835.0  12783.0  15337.0  17017.0  17506.0      NaN   \n",
       "1995            7835.0  12288.0  16176.0  19511.0  21599.0      NaN      NaN   \n",
       "1996            9763.0  16280.0  19843.0  23827.0      NaN      NaN      NaN   \n",
       "1997           10745.0  16929.0  21478.0      NaN      NaN      NaN      NaN   \n",
       "1998           14137.0  22253.0      NaN      NaN      NaN      NaN      NaN   \n",
       "1999           15162.0      NaN      NaN      NaN      NaN      NaN      NaN   \n",
       "\n",
       "Dev                  7  \n",
       "Accident_Date           \n",
       "1992           14032.0  \n",
       "1993               NaN  \n",
       "1994               NaN  \n",
       "1995               NaN  \n",
       "1996               NaN  \n",
       "1997               NaN  \n",
       "1998               NaN  \n",
       "1999               NaN  "
      ]
     },
     "execution_count": 852,
     "metadata": {},
     "output_type": "execute_result"
    }
   ],
   "source": [
    "# Accumulated Paids\n",
    "accumulate = triangle.cumsum(axis=1)\n",
    "accumulate"
   ]
  },
  {
   "cell_type": "code",
   "execution_count": 853,
   "id": "b33a882c",
   "metadata": {},
   "outputs": [],
   "source": [
    "if opcion==4:\n",
    "    accumulate.loc[1998,1] = accumulate.loc[1998,1] * 1.1\n",
    "else:\n",
    "    pass"
   ]
  },
  {
   "cell_type": "code",
   "execution_count": 854,
   "id": "4f99e6ce",
   "metadata": {
    "lines_to_next_cell": 2
   },
   "outputs": [
    {
     "name": "stdout",
     "output_type": "stream",
     "text": [
      "(8, 8)\n"
     ]
    }
   ],
   "source": [
    "# Check the shape of the triangle:\n",
    "print(accumulate.shape)"
   ]
  },
  {
   "cell_type": "markdown",
   "id": "611c8d14",
   "metadata": {},
   "source": [
    "**Opción 1** - Average Paid LDFs"
   ]
  },
  {
   "cell_type": "code",
   "execution_count": 855,
   "id": "f0a9d328",
   "metadata": {},
   "outputs": [
    {
     "data": {
      "text/html": [
       "<div>\n",
       "<style scoped>\n",
       "    .dataframe tbody tr th:only-of-type {\n",
       "        vertical-align: middle;\n",
       "    }\n",
       "\n",
       "    .dataframe tbody tr th {\n",
       "        vertical-align: top;\n",
       "    }\n",
       "\n",
       "    .dataframe thead th {\n",
       "        text-align: right;\n",
       "    }\n",
       "</style>\n",
       "<table border=\"1\" class=\"dataframe\">\n",
       "  <thead>\n",
       "    <tr style=\"text-align: right;\">\n",
       "      <th>Dev</th>\n",
       "      <th>1</th>\n",
       "      <th>2</th>\n",
       "      <th>3</th>\n",
       "      <th>4</th>\n",
       "      <th>5</th>\n",
       "      <th>6</th>\n",
       "      <th>7</th>\n",
       "    </tr>\n",
       "    <tr>\n",
       "      <th>Accident_Date</th>\n",
       "      <th></th>\n",
       "      <th></th>\n",
       "      <th></th>\n",
       "      <th></th>\n",
       "      <th></th>\n",
       "      <th></th>\n",
       "      <th></th>\n",
       "    </tr>\n",
       "  </thead>\n",
       "  <tbody>\n",
       "    <tr>\n",
       "      <th>1992</th>\n",
       "      <td>1.579798</td>\n",
       "      <td>1.284817</td>\n",
       "      <td>1.127760</td>\n",
       "      <td>1.048139</td>\n",
       "      <td>1.026944</td>\n",
       "      <td>1.032126</td>\n",
       "      <td>1.01336</td>\n",
       "    </tr>\n",
       "    <tr>\n",
       "      <th>1993</th>\n",
       "      <td>1.596203</td>\n",
       "      <td>1.146362</td>\n",
       "      <td>1.079260</td>\n",
       "      <td>1.090500</td>\n",
       "      <td>1.083704</td>\n",
       "      <td>1.027041</td>\n",
       "      <td>NaN</td>\n",
       "    </tr>\n",
       "    <tr>\n",
       "      <th>1994</th>\n",
       "      <td>1.811570</td>\n",
       "      <td>1.179788</td>\n",
       "      <td>1.199797</td>\n",
       "      <td>1.109539</td>\n",
       "      <td>1.028736</td>\n",
       "      <td>NaN</td>\n",
       "      <td>NaN</td>\n",
       "    </tr>\n",
       "    <tr>\n",
       "      <th>1995</th>\n",
       "      <td>1.568347</td>\n",
       "      <td>1.316406</td>\n",
       "      <td>1.206170</td>\n",
       "      <td>1.107017</td>\n",
       "      <td>NaN</td>\n",
       "      <td>NaN</td>\n",
       "      <td>NaN</td>\n",
       "    </tr>\n",
       "    <tr>\n",
       "      <th>1996</th>\n",
       "      <td>1.667520</td>\n",
       "      <td>1.218857</td>\n",
       "      <td>1.200776</td>\n",
       "      <td>NaN</td>\n",
       "      <td>NaN</td>\n",
       "      <td>NaN</td>\n",
       "      <td>NaN</td>\n",
       "    </tr>\n",
       "    <tr>\n",
       "      <th>1997</th>\n",
       "      <td>1.575523</td>\n",
       "      <td>1.268710</td>\n",
       "      <td>NaN</td>\n",
       "      <td>NaN</td>\n",
       "      <td>NaN</td>\n",
       "      <td>NaN</td>\n",
       "      <td>NaN</td>\n",
       "    </tr>\n",
       "    <tr>\n",
       "      <th>1998</th>\n",
       "      <td>1.574096</td>\n",
       "      <td>NaN</td>\n",
       "      <td>NaN</td>\n",
       "      <td>NaN</td>\n",
       "      <td>NaN</td>\n",
       "      <td>NaN</td>\n",
       "      <td>NaN</td>\n",
       "    </tr>\n",
       "    <tr>\n",
       "      <th>1999</th>\n",
       "      <td>NaN</td>\n",
       "      <td>NaN</td>\n",
       "      <td>NaN</td>\n",
       "      <td>NaN</td>\n",
       "      <td>NaN</td>\n",
       "      <td>NaN</td>\n",
       "      <td>NaN</td>\n",
       "    </tr>\n",
       "  </tbody>\n",
       "</table>\n",
       "</div>"
      ],
      "text/plain": [
       "Dev                   1         2         3         4         5         6  \\\n",
       "Accident_Date                                                               \n",
       "1992           1.579798  1.284817  1.127760  1.048139  1.026944  1.032126   \n",
       "1993           1.596203  1.146362  1.079260  1.090500  1.083704  1.027041   \n",
       "1994           1.811570  1.179788  1.199797  1.109539  1.028736       NaN   \n",
       "1995           1.568347  1.316406  1.206170  1.107017       NaN       NaN   \n",
       "1996           1.667520  1.218857  1.200776       NaN       NaN       NaN   \n",
       "1997           1.575523  1.268710       NaN       NaN       NaN       NaN   \n",
       "1998           1.574096       NaN       NaN       NaN       NaN       NaN   \n",
       "1999                NaN       NaN       NaN       NaN       NaN       NaN   \n",
       "\n",
       "Dev                  7  \n",
       "Accident_Date           \n",
       "1992           1.01336  \n",
       "1993               NaN  \n",
       "1994               NaN  \n",
       "1995               NaN  \n",
       "1996               NaN  \n",
       "1997               NaN  \n",
       "1998               NaN  \n",
       "1999               NaN  "
      ]
     },
     "execution_count": 855,
     "metadata": {},
     "output_type": "execute_result"
    }
   ],
   "source": [
    "df = accumulate \n",
    "saltos = df.iloc[:, 1:].div(df.iloc[:, :-1].values)\n",
    "saltos"
   ]
  },
  {
   "cell_type": "code",
   "execution_count": 856,
   "id": "2de9d921",
   "metadata": {},
   "outputs": [
    {
     "data": {
      "text/plain": [
       "array([1.625, 1.236, 1.163, 1.089, 1.047, 1.03 , 1.013])"
      ]
     },
     "execution_count": 856,
     "metadata": {},
     "output_type": "execute_result"
    }
   ],
   "source": [
    "LDFs1 = saltos.mean().to_list()\n",
    "LDFs1 = np.round(LDFs1, 3); LDFs1[4] = LDFs1[4] + 0.001 # Corrección para igualar con el paper\n",
    "LDFs1"
   ]
  },
  {
   "cell_type": "markdown",
   "id": "abdb98cb",
   "metadata": {},
   "source": [
    "**Opcion 2** - Average 5y Paid LDFs"
   ]
  },
  {
   "cell_type": "code",
   "execution_count": 857,
   "id": "5a2c7f22",
   "metadata": {},
   "outputs": [
    {
     "data": {
      "text/plain": [
       "array([1.639, 1.226, 1.163, 1.089, 1.047, 1.03 , 1.013])"
      ]
     },
     "execution_count": 857,
     "metadata": {},
     "output_type": "execute_result"
    }
   ],
   "source": [
    "LDFs2 = saltos.apply(lambda col: col.dropna().tail(5).mean())\n",
    "LDFs2 = LDFs2.to_list()\n",
    "LDFs2 = np.round(LDFs2, 3); LDFs2[4] = LDFs2[4] + 0.001 # Corrección para igualar con el paper\n",
    "LDFs2\n"
   ]
  },
  {
   "cell_type": "markdown",
   "id": "2db26a3e",
   "metadata": {},
   "source": [
    "**Opcion 3** - Mean Paid LDFs"
   ]
  },
  {
   "cell_type": "code",
   "execution_count": 858,
   "id": "0f056871",
   "metadata": {},
   "outputs": [
    {
     "data": {
      "text/plain": [
       "array([1.615, 1.239, 1.172, 1.092, 1.044, 1.03 , 1.013])"
      ]
     },
     "execution_count": 858,
     "metadata": {},
     "output_type": "execute_result"
    }
   ],
   "source": [
    "# Payment Pattern \n",
    "n = len(accumulate)-1\n",
    "LDFs3 = np.ones(n)\n",
    "\n",
    "for i in range(n):\n",
    "\tSumDev = pd.Series(accumulate[i][:n-i]).sum(skipna=True)\n",
    "\tSumDevNext = pd.Series(accumulate[min(i+1,n)][:n-i]).sum(skipna=True)\n",
    "\tLDFs3[i] = SumDevNext/SumDev\n",
    "LDFs3 = np.round(LDFs3, 3)\n",
    "LDFs3"
   ]
  },
  {
   "cell_type": "code",
   "execution_count": 859,
   "id": "c60c2c6b",
   "metadata": {},
   "outputs": [],
   "source": [
    "# Elegir opcion\n",
    "opciones = {\n",
    "    1: LDFs1,\n",
    "    2: LDFs2,\n",
    "    3: LDFs3,\n",
    "    4: LDFs2,\n",
    "}\n",
    "LDFs = opciones.get(opcion, \"Opción fuera del rango\")"
   ]
  },
  {
   "cell_type": "code",
   "execution_count": 860,
   "id": "725be899",
   "metadata": {},
   "outputs": [
    {
     "data": {
      "text/plain": [
       "array([2.77889913, 1.71009177, 1.38356939, 1.18965554, 1.09242933,\n",
       "       1.04339   , 1.013     , 1.        ])"
      ]
     },
     "execution_count": 860,
     "metadata": {},
     "output_type": "execute_result"
    }
   ],
   "source": [
    "CDFs = np.ones(n+1)\n",
    "for i in range(n):\n",
    "\tCDFs[i] = np.prod(LDFs[i:n])\n",
    "CDFs"
   ]
  },
  {
   "cell_type": "code",
   "execution_count": 861,
   "id": "c030d3fc",
   "metadata": {},
   "outputs": [
    {
     "data": {
      "image/png": "[encoded data removed]",
      "text/plain": [
       "<Figure size 640x480 with 1 Axes>"
      ]
     },
     "metadata": {},
     "output_type": "display_data"
    }
   ],
   "source": [
    "# Payment Pattern \n",
    "payment_pattern = pd.DataFrame(data=np.reciprocal(CDFs),columns=['Cum'])\n",
    "payment_pattern['Incr'] = payment_pattern['Cum'].diff().fillna(payment_pattern['Cum']) #First value of diff() is always NaN\n",
    "#print(payment_pattern)\n",
    "#plt.plot(payment_pattern)\n",
    "payment_pattern.plot()\n",
    "plt.show()"
   ]
  },
  {
   "cell_type": "code",
   "execution_count": 862,
   "id": "6460ea15",
   "metadata": {},
   "outputs": [
    {
     "data": {
      "text/plain": [
       "array([15162., 22253., 21478., 23827., 21599., 17506., 14015., 14032.])"
      ]
     },
     "execution_count": 862,
     "metadata": {},
     "output_type": "execute_result"
    }
   ],
   "source": [
    "# Payments = diagonal + flipud/fliplr\n",
    "diagonal = np.diag(np.flipud(accumulate))\n",
    "diagonal"
   ]
  },
  {
   "cell_type": "code",
   "execution_count": 863,
   "id": "82fe3dcf",
   "metadata": {},
   "outputs": [
    {
     "data": {
      "text/plain": [
       "0    15162.0\n",
       "1    22253.0\n",
       "2    21478.0\n",
       "3    23827.0\n",
       "4    21599.0\n",
       "5    17506.0\n",
       "6    14015.0\n",
       "7    14032.0\n",
       "dtype: float64"
      ]
     },
     "execution_count": 863,
     "metadata": {},
     "output_type": "execute_result"
    }
   ],
   "source": [
    "payments = pd.Series(data=diagonal)\n",
    "payments\n"
   ]
  },
  {
   "cell_type": "code",
   "execution_count": 864,
   "id": "c7dfad3f",
   "metadata": {},
   "outputs": [
    {
     "name": "stdout",
     "output_type": "stream",
     "text": [
      "Paid-to-Date: 149,872\n"
     ]
    }
   ],
   "source": [
    "print(f'Paid-to-Date: {payments.sum():,.0f}')"
   ]
  },
  {
   "cell_type": "code",
   "execution_count": 865,
   "id": "09060b47",
   "metadata": {},
   "outputs": [
    {
     "name": "stdout",
     "output_type": "stream",
     "text": [
      "Estimated Ultimate Losses: 208,341\n"
     ]
    }
   ],
   "source": [
    "# Ultimate = CDFs * payment_k\n",
    "ultimate = np.vdot(CDFs, payments)\n",
    "print(f'Estimated Ultimate Losses: {ultimate:,.0f}')"
   ]
  },
  {
   "cell_type": "code",
   "execution_count": 866,
   "id": "744efb85",
   "metadata": {},
   "outputs": [
    {
     "name": "stdout",
     "output_type": "stream",
     "text": [
      "Estimated Loss Reserve: 58,469\n"
     ]
    }
   ],
   "source": [
    "# Reserve = ultimate - Sum(payments)\n",
    "reserve = ultimate - np.sum(payments)\n",
    "print(f'Estimated Loss Reserve: {reserve.round(0):,.0f}')"
   ]
  }
 ],
 "metadata": {
  "jupytext": {
   "cell_metadata_filter": "-all",
   "main_language": "python",
   "notebook_metadata_filter": "-all"
  },
  "kernelspec": {
   "display_name": "Python 3",
   "language": "python",
   "name": "python3"
  },
  "language_info": {
   "codemirror_mode": {
    "name": "ipython",
    "version": 3
   },
   "file_extension": ".py",
   "mimetype": "text/x-python",
   "name": "python",
   "nbconvert_exporter": "python",
   "pygments_lexer": "ipython3",
   "version": "3.11.9"
  }
 },
 "nbformat": 4,
 "nbformat_minor": 5
}
