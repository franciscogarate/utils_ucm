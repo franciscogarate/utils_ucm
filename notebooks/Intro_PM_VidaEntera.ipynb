{
 "cells": [
  {
   "cell_type": "markdown",
   "metadata": {},
   "source": [
    "### Intro cálculo de edades\n",
    "\n",
    "Utilizando Pandas y NumPy, calcular las edades para cada asegurado de un colectivo, a la fecha de valoración 31-12-2024."
   ]
  },
  {
   "cell_type": "code",
   "execution_count": null,
   "metadata": {},
   "outputs": [],
   "source": [
    "!git clone https://github.com/franciscogarate/utils_ucm"
   ]
  },
  {
   "cell_type": "code",
   "execution_count": null,
   "metadata": {},
   "outputs": [],
   "source": [
    "import pandas as pd\n",
    "import numpy as np\n",
    "from utils_ucm import censo\n",
    "df = censo"
   ]
  },
  {
   "cell_type": "code",
   "execution_count": null,
   "metadata": {},
   "outputs": [],
   "source": [
    "# Función edad actuarial\n",
    "def EdAct(fechanac, fval):\n",
    "    return np.rint((fval - fechanac).days / 365.25).astype(int)\n",
    "\n",
    "# Función edad cumplida o real\n",
    "def EdReal(fechanac, fval):\n",
    "    edad = fval.year - fechanac.year - ((fval.month, fval.day) < (fechanac.month, fechanac.day))\n",
    "\treturn np.maximum(edad, 0)"
   ]
  },
  {
   "cell_type": "code",
   "execution_count": null,
   "metadata": {},
   "outputs": [
    {
     "data": {
      "text/html": [
       "<div>\n",
       "<style scoped>\n",
       "    .dataframe tbody tr th:only-of-type {\n",
       "        vertical-align: middle;\n",
       "    }\n",
       "\n",
       "    .dataframe tbody tr th {\n",
       "        vertical-align: top;\n",
       "    }\n",
       "\n",
       "    .dataframe thead th {\n",
       "        text-align: right;\n",
       "    }\n",
       "</style>\n",
       "<table border=\"1\" class=\"dataframe\">\n",
       "  <thead>\n",
       "    <tr style=\"text-align: right;\">\n",
       "      <th></th>\n",
       "      <th>Nombre</th>\n",
       "      <th>Fnac</th>\n",
       "      <th>Importe</th>\n",
       "      <th>Edad</th>\n",
       "      <th>EdadCumplida</th>\n",
       "    </tr>\n",
       "  </thead>\n",
       "  <tbody>\n",
       "    <tr>\n",
       "      <th>0</th>\n",
       "      <td>Rosendo Mercado Ruiz</td>\n",
       "      <td>1954-02-23</td>\n",
       "      <td>1000</td>\n",
       "      <td>70.0</td>\n",
       "      <td>69</td>\n",
       "    </tr>\n",
       "    <tr>\n",
       "      <th>1</th>\n",
       "      <td>Rafael J. Vegas</td>\n",
       "      <td>1965-06-06</td>\n",
       "      <td>1000</td>\n",
       "      <td>59.0</td>\n",
       "      <td>58</td>\n",
       "    </tr>\n",
       "    <tr>\n",
       "      <th>2</th>\n",
       "      <td>Mariano Montero Arce</td>\n",
       "      <td>1969-12-06</td>\n",
       "      <td>1000</td>\n",
       "      <td>54.0</td>\n",
       "      <td>54</td>\n",
       "    </tr>\n",
       "  </tbody>\n",
       "</table>\n",
       "</div>"
      ],
      "text/plain": [
       "                 Nombre       Fnac  Importe  Edad  EdadCumplida\n",
       "0  Rosendo Mercado Ruiz 1954-02-23     1000  70.0            69\n",
       "1       Rafael J. Vegas 1965-06-06     1000  59.0            58\n",
       "2  Mariano Montero Arce 1969-12-06     1000  54.0            54"
      ]
     },
     "execution_count": 5,
     "metadata": {},
     "output_type": "execute_result"
    }
   ],
   "source": [
    "df['Edad_actuarial'] = df['Fnac'].apply(lambda x: EdAct(x, f_val))\n",
    "df['EdadCumplida'] = df['Fnac'].apply(lambda x: EdReal(x, f_val))\n",
    "df"
   ]
  }
 ],
 "metadata": {
  "kernelspec": {
   "display_name": "Python 3",
   "language": "python",
   "name": "python3"
  },
  "language_info": {
   "codemirror_mode": {
    "name": "ipython",
    "version": 3
   },
   "file_extension": ".py",
   "mimetype": "text/x-python",
   "name": "python",
   "nbconvert_exporter": "python",
   "pygments_lexer": "ipython3",
   "version": "3.12.5"
  }
 },
 "nbformat": 4,
 "nbformat_minor": 4
}
