{
  "cells": [
    {
      "cell_type": "markdown",
      "metadata": {
        "id": "view-in-github",
        "colab_type": "text"
      },
      "source": [
        "<a href=\"https://colab.research.google.com/github/franciscogarate/utils_ucm/blob/master/notebooks/Ejercicio_24_USP_B_Hipotesis_3.ipynb\" target=\"_parent\"><img src=\"https://colab.research.google.com/assets/colab-badge.svg\" alt=\"Open In Colab\"/></a>"
      ]
    },
    {
      "cell_type": "code",
      "execution_count": 1,
      "metadata": {
        "id": "jCub1aO8gD6U"
      },
      "outputs": [],
      "source": [
        "import pandas as pd\n",
        "import numpy as np\n",
        "import scipy.stats as st\n",
        "import matplotlib.pyplot as plt"
      ]
    },
    {
      "cell_type": "code",
      "source": [
        "!git clone https://github.com/franciscogarate/utils_ucm"
      ],
      "metadata": {
        "colab": {
          "base_uri": "https://localhost:8080/"
        },
        "id": "qXN37R-igFEx",
        "outputId": "f73f27ec-3e13-4f30-8458-d1ad2614084f"
      },
      "execution_count": 2,
      "outputs": [
        {
          "output_type": "stream",
          "name": "stdout",
          "text": [
            "Cloning into 'utils_ucm'...\n",
            "remote: Enumerating objects: 286, done.\u001b[K\n",
            "remote: Counting objects: 100% (47/47), done.\u001b[K\n",
            "remote: Compressing objects: 100% (45/45), done.\u001b[K\n",
            "remote: Total 286 (delta 22), reused 4 (delta 2), pack-reused 239 (from 1)\u001b[K\n",
            "Receiving objects: 100% (286/286), 7.56 MiB | 4.43 MiB/s, done.\n",
            "Resolving deltas: 100% (146/146), done.\n"
          ]
        }
      ]
    },
    {
      "cell_type": "code",
      "execution_count": 3,
      "metadata": {
        "colab": {
          "base_uri": "https://localhost:8080/"
        },
        "id": "_R27UfoxgD6W",
        "outputId": "1a795efa-83da-49bf-fff1-968185b1061c"
      },
      "outputs": [
        {
          "output_type": "stream",
          "name": "stdout",
          "text": [
            "    Poliza    Gto\n",
            "0    86921  12.79\n",
            "1    99540  12.79\n",
            "2   575008  12.79\n",
            "3  1468724  66.42\n",
            "4  1806378  44.28\n",
            "Poliza    1000000\n",
            "Gto       1000000\n",
            "dtype: int64\n",
            "75970777.12\n",
            "count    1000000.000000\n",
            "mean          75.970777\n",
            "std          248.696378\n",
            "min           12.790000\n",
            "25%           15.740000\n",
            "50%           29.520000\n",
            "75%           59.530000\n",
            "max        22807.450000\n",
            "Name: Gto, dtype: float64\n"
          ]
        }
      ],
      "source": [
        "# Son datos ficticios de 1 millón de pólizas\n",
        "df = pd.read_csv('./utils_ucm/data/siniestralidad_2024.csv')\n",
        "\n",
        "print(df.head())\n",
        "print(df.count())\n",
        "print(df.Gto.sum())\n",
        "print(df['Gto'].describe())"
      ]
    },
    {
      "cell_type": "code",
      "execution_count": 4,
      "metadata": {
        "colab": {
          "base_uri": "https://localhost:8080/"
        },
        "id": "d2CsWsGqgD6X",
        "outputId": "3202814b-1178-447c-dece-70a5ff585880"
      },
      "outputs": [
        {
          "output_type": "stream",
          "name": "stdout",
          "text": [
            "Media muestral:  75975309.09426\n",
            "Var. muestral:  61034918717.58467\n"
          ]
        }
      ],
      "source": [
        "#Se establece una semilla para volver a replicar las mismas cifras si repito el proceso\n",
        "np.random.seed(999)\n",
        "\n",
        "n = df.Poliza.count()\n",
        "b = 1000 #Con 1000 tarda 51 segundos\n",
        "\n",
        "# Realizo un bootstrap con reemplazamiento (puedo seleccionar varias veces el mismo siniestro)\n",
        "sampling = pd.DataFrame(data=np.zeros(b),columns=['z'])\n",
        "for i in range(b):\n",
        "\tsample = df.sample(n, replace=True)\n",
        "\tsumm = sample['Gto'].sum()\n",
        "\tsampling.loc[i, 'z'] = summ\n",
        "\n",
        "sampling['ln'] = np.log(sampling['z'])\n",
        "\n",
        "boot_mean = sampling['ln'].mean()\n",
        "boot_std = sampling['ln'].std()\n",
        "#print(sampling)\n",
        "print('Media muestral: ', sampling['z'].mean())\n",
        "# A utilizar para la demostracion de la hipotesis 2:\n",
        "print('Var. muestral: ',  sampling['z'].var())"
      ]
    },
    {
      "cell_type": "code",
      "execution_count": 6,
      "metadata": {
        "colab": {
          "base_uri": "https://localhost:8080/"
        },
        "id": "0Vzk7DG3gD6X",
        "outputId": "fb0e668c-08b4-40f2-f63a-ecd0644148eb"
      },
      "outputs": [
        {
          "output_type": "stream",
          "name": "stdout",
          "text": [
            "18.145913682979504 0.0032519848074350184\n"
          ]
        }
      ],
      "source": [
        "# Variables candidatas LN(mu,sigma)\n",
        "print(boot_mean, boot_std)\n",
        "mu=boot_mean\n",
        "sigma=boot_std"
      ]
    },
    {
      "cell_type": "code",
      "execution_count": 7,
      "metadata": {
        "colab": {
          "base_uri": "https://localhost:8080/"
        },
        "id": "YESQcgmigD6X",
        "outputId": "cc871301-8bd6-439c-ee7a-08670573271d"
      },
      "outputs": [
        {
          "output_type": "stream",
          "name": "stdout",
          "text": [
            "Kolmogorov-Smirnov statistic: 0.024716016701270382\n",
            "P-value: 0.5657701734695861\n",
            "The data follows a lognormal distribution (fail to reject H0)\n"
          ]
        }
      ],
      "source": [
        "lognormal = st.lognorm(s=sigma,scale=np.exp(mu))\n",
        "\n",
        "# Kolmogorov-Smirnov test\n",
        "ks_statistic, p_value = st.kstest(sampling['z'], lognormal.cdf)\n",
        "\n",
        "print(f\"Kolmogorov-Smirnov statistic: {ks_statistic}\")\n",
        "print(f\"P-value: {p_value}\")\n",
        "\n",
        "alpha = 0.05  # Significance level\n",
        "\n",
        "if p_value > alpha:\n",
        "    print(\"The data follows a lognormal distribution (fail to reject H0)\")\n",
        "else:\n",
        "    print(\"The data does not follow a lognormal distribution (reject H0)\")"
      ]
    }
  ],
  "metadata": {
    "kernelspec": {
      "display_name": "Python 3",
      "language": "python",
      "name": "python3"
    },
    "language_info": {
      "codemirror_mode": {
        "name": "ipython",
        "version": 3
      },
      "file_extension": ".py",
      "mimetype": "text/x-python",
      "name": "python",
      "nbconvert_exporter": "python",
      "pygments_lexer": "ipython3",
      "version": "3.12.5"
    },
    "colab": {
      "provenance": [],
      "include_colab_link": true
    }
  },
  "nbformat": 4,
  "nbformat_minor": 0
}