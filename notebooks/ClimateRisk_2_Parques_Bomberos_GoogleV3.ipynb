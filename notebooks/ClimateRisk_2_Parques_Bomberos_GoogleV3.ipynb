{
  "cells": [
    {
      "cell_type": "markdown",
      "metadata": {
        "id": "view-in-github",
        "colab_type": "text"
      },
      "source": [
        "<a href=\"https://colab.research.google.com/github/franciscogarate/utils_ucm/blob/master/notebooks/ClimateRisk_2_Parques_Bomberos_GoogleV3.ipynb\" target=\"_parent\"><img src=\"https://colab.research.google.com/assets/colab-badge.svg\" alt=\"Open In Colab\"/></a>"
      ]
    },
    {
      "cell_type": "markdown",
      "id": "d7d609c4",
      "metadata": {
        "id": "d7d609c4"
      },
      "source": [
        "## Geoposicionar usando geopy (GoogleV3 - OpenStreetMap) y graficar con Folium"
      ]
    },
    {
      "cell_type": "markdown",
      "id": "9009e5c7",
      "metadata": {
        "id": "9009e5c7"
      },
      "source": [
        "Datos: https://datos.madrid.es/sites/v/index.jsp?vgnextoid=fa3881ac7ad6b410VgnVCM2000000c205a0aRCRD&vgnextchannel=374512b9ace9f310VgnVCM100000171f5a0aRCRD\n",
        "\n",
        "Los datos ya incluyen la geoposición (coordenadas utm y tambien *lon* y *lat*). No obstante, hacemos como sino tuvieramos estas coordenadas y las buscamos con la librería de código abierto de OpenStreetMap o API de Google."
      ]
    },
    {
      "cell_type": "code",
      "source": [
        "!git clone https://github.com/franciscogarate/utils_ucm"
      ],
      "metadata": {
        "colab": {
          "base_uri": "https://localhost:8080/"
        },
        "id": "FbdKSXDNghKb",
        "outputId": "9f87b6f7-e632-48c9-d4cf-c1fd2ffdbd74"
      },
      "id": "FbdKSXDNghKb",
      "execution_count": 9,
      "outputs": [
        {
          "output_type": "stream",
          "name": "stdout",
          "text": [
            "Cloning into 'utils_ucm'...\n",
            "remote: Enumerating objects: 243, done.\u001b[K\n",
            "remote: Counting objects: 100% (4/4), done.\u001b[K\n",
            "remote: Compressing objects: 100% (4/4), done.\u001b[K\n",
            "remote: Total 243 (delta 0), reused 0 (delta 0), pack-reused 239 (from 1)\u001b[K\n",
            "Receiving objects: 100% (243/243), 1.75 MiB | 25.97 MiB/s, done.\n",
            "Resolving deltas: 100% (124/124), done.\n"
          ]
        }
      ]
    },
    {
      "cell_type": "code",
      "execution_count": 3,
      "id": "1ddf5584",
      "metadata": {
        "id": "1ddf5584"
      },
      "outputs": [],
      "source": [
        "import pandas as pd\n",
        "import numpy as np\n",
        "from geopy.geocoders import GoogleV3"
      ]
    },
    {
      "cell_type": "code",
      "source": [
        "from google.colab import userdata\n",
        "api_key_googlev3 = userdata.get('api_key_google_v3')"
      ],
      "metadata": {
        "id": "KdjI4ZccbXJm"
      },
      "id": "KdjI4ZccbXJm",
      "execution_count": 6,
      "outputs": []
    },
    {
      "cell_type": "code",
      "execution_count": 7,
      "id": "d6bd6329",
      "metadata": {
        "colab": {
          "base_uri": "https://localhost:8080/"
        },
        "id": "d6bd6329",
        "outputId": "edad07d3-a0e5-4a9f-c92e-ca872200e1df"
      },
      "outputs": [
        {
          "output_type": "stream",
          "name": "stdout",
          "text": [
            "(40.7413871, -73.9893731)\n"
          ]
        }
      ],
      "source": [
        "# Pruebo que funcione\n",
        "from geopy.geocoders import GoogleV3\n",
        "geolocator = GoogleV3(api_key=api_key_googlev3)\n",
        "location = geolocator.geocode(\"175 5th Avenue NYC\")\n",
        "print((location.latitude, location.longitude))"
      ]
    },
    {
      "cell_type": "code",
      "execution_count": 8,
      "id": "eb9dc64f",
      "metadata": {
        "id": "eb9dc64f"
      },
      "outputs": [],
      "source": [
        "# Creo mi propia función:\n",
        "def direcc(x):\n",
        "    try:\n",
        "        location = geolocator.geocode(x)\n",
        "        return (location.latitude, location.longitude)\n",
        "    except:\n",
        "        return (0, 0)"
      ]
    },
    {
      "cell_type": "code",
      "execution_count": 10,
      "id": "aad02d97",
      "metadata": {
        "colab": {
          "base_uri": "https://localhost:8080/",
          "height": 457
        },
        "id": "aad02d97",
        "outputId": "ff322908-ccc9-4c97-bf4d-0f6ea312545b"
      },
      "outputs": [
        {
          "output_type": "execute_result",
          "data": {
            "text/plain": [
              "                  NOMBRE-VIA CLASE-VIAL  NUM  \\\n",
              "0             SANTA ENGRACIA      CALLE  118   \n",
              "1              RUFINO BLANCO      CALLE    2   \n",
              "2                    SEGOVIA      RONDA   95   \n",
              "3                     EMILIA      CALLE   40   \n",
              "4   SANTA MARIA DE LA CABEZA      PASEO   95   \n",
              "5               SAN BERNARDO      CALLE   68   \n",
              "6                     HELLIN    AVENIDA   52   \n",
              "7                 PIO FELIPE      CALLE   24   \n",
              "8          MONFORTE DE LEMOS    AVENIDA   20   \n",
              "9               SAN NORBERTO      CALLE   54   \n",
              "10                    MESENA      CALLE  146   \n",
              "11                  POBLADOS    AVENIDA   48   \n",
              "12              LAS SANTERAS      CALLE   39   \n",
              "\n",
              "                                            Direccion  \\\n",
              "0            CALLE SANTA ENGRACIA, 118, Madrid, Spain   \n",
              "1               CALLE RUFINO BLANCO, 2, Madrid, Spain   \n",
              "2                    RONDA SEGOVIA, 95, Madrid, Spain   \n",
              "3                     CALLE EMILIA, 40, Madrid, Spain   \n",
              "4   PASEO SANTA MARIA DE LA CABEZA, 95, Madrid, Spain   \n",
              "5               CALLE SAN BERNARDO, 68, Madrid, Spain   \n",
              "6                   AVENIDA HELLIN, 52, Madrid, Spain   \n",
              "7                 CALLE PIO FELIPE, 24, Madrid, Spain   \n",
              "8        AVENIDA MONFORTE DE LEMOS, 20, Madrid, Spain   \n",
              "9               CALLE SAN NORBERTO, 54, Madrid, Spain   \n",
              "10                   CALLE MESENA, 146, Madrid, Spain   \n",
              "11                AVENIDA POBLADOS, 48, Madrid, Spain   \n",
              "12              CALLE LAS SANTERAS, 39, Madrid, Spain   \n",
              "\n",
              "                               coord  \n",
              "0           (40.4401957, -3.7007281)  \n",
              "1           (40.4280535, -3.6667525)  \n",
              "2           (40.4065806, -3.7107557)  \n",
              "3            (40.3450356, -3.713301)  \n",
              "4           (40.3922304, -3.7066515)  \n",
              "5            (40.426741, -3.7065449)  \n",
              "6           (40.4284002, -3.6155508)  \n",
              "7   (40.3946351, -3.653046299999999)  \n",
              "8           (40.4800946, -3.6996555)  \n",
              "9           (40.3399108, -3.7069834)  \n",
              "10          (40.4742888, -3.6650986)  \n",
              "11          (40.3878369, -3.7649168)  \n",
              "12          (40.3911576, -3.5896932)  "
            ],
            "text/html": [
              "\n",
              "  <div id=\"df-ed118fb8-2e0a-4beb-9b08-004ed6461c10\" class=\"colab-df-container\">\n",
              "    <div>\n",
              "<style scoped>\n",
              "    .dataframe tbody tr th:only-of-type {\n",
              "        vertical-align: middle;\n",
              "    }\n",
              "\n",
              "    .dataframe tbody tr th {\n",
              "        vertical-align: top;\n",
              "    }\n",
              "\n",
              "    .dataframe thead th {\n",
              "        text-align: right;\n",
              "    }\n",
              "</style>\n",
              "<table border=\"1\" class=\"dataframe\">\n",
              "  <thead>\n",
              "    <tr style=\"text-align: right;\">\n",
              "      <th></th>\n",
              "      <th>NOMBRE-VIA</th>\n",
              "      <th>CLASE-VIAL</th>\n",
              "      <th>NUM</th>\n",
              "      <th>Direccion</th>\n",
              "      <th>coord</th>\n",
              "    </tr>\n",
              "  </thead>\n",
              "  <tbody>\n",
              "    <tr>\n",
              "      <th>0</th>\n",
              "      <td>SANTA ENGRACIA</td>\n",
              "      <td>CALLE</td>\n",
              "      <td>118</td>\n",
              "      <td>CALLE SANTA ENGRACIA, 118, Madrid, Spain</td>\n",
              "      <td>(40.4401957, -3.7007281)</td>\n",
              "    </tr>\n",
              "    <tr>\n",
              "      <th>1</th>\n",
              "      <td>RUFINO BLANCO</td>\n",
              "      <td>CALLE</td>\n",
              "      <td>2</td>\n",
              "      <td>CALLE RUFINO BLANCO, 2, Madrid, Spain</td>\n",
              "      <td>(40.4280535, -3.6667525)</td>\n",
              "    </tr>\n",
              "    <tr>\n",
              "      <th>2</th>\n",
              "      <td>SEGOVIA</td>\n",
              "      <td>RONDA</td>\n",
              "      <td>95</td>\n",
              "      <td>RONDA SEGOVIA, 95, Madrid, Spain</td>\n",
              "      <td>(40.4065806, -3.7107557)</td>\n",
              "    </tr>\n",
              "    <tr>\n",
              "      <th>3</th>\n",
              "      <td>EMILIA</td>\n",
              "      <td>CALLE</td>\n",
              "      <td>40</td>\n",
              "      <td>CALLE EMILIA, 40, Madrid, Spain</td>\n",
              "      <td>(40.3450356, -3.713301)</td>\n",
              "    </tr>\n",
              "    <tr>\n",
              "      <th>4</th>\n",
              "      <td>SANTA MARIA DE LA CABEZA</td>\n",
              "      <td>PASEO</td>\n",
              "      <td>95</td>\n",
              "      <td>PASEO SANTA MARIA DE LA CABEZA, 95, Madrid, Spain</td>\n",
              "      <td>(40.3922304, -3.7066515)</td>\n",
              "    </tr>\n",
              "    <tr>\n",
              "      <th>5</th>\n",
              "      <td>SAN BERNARDO</td>\n",
              "      <td>CALLE</td>\n",
              "      <td>68</td>\n",
              "      <td>CALLE SAN BERNARDO, 68, Madrid, Spain</td>\n",
              "      <td>(40.426741, -3.7065449)</td>\n",
              "    </tr>\n",
              "    <tr>\n",
              "      <th>6</th>\n",
              "      <td>HELLIN</td>\n",
              "      <td>AVENIDA</td>\n",
              "      <td>52</td>\n",
              "      <td>AVENIDA HELLIN, 52, Madrid, Spain</td>\n",
              "      <td>(40.4284002, -3.6155508)</td>\n",
              "    </tr>\n",
              "    <tr>\n",
              "      <th>7</th>\n",
              "      <td>PIO FELIPE</td>\n",
              "      <td>CALLE</td>\n",
              "      <td>24</td>\n",
              "      <td>CALLE PIO FELIPE, 24, Madrid, Spain</td>\n",
              "      <td>(40.3946351, -3.653046299999999)</td>\n",
              "    </tr>\n",
              "    <tr>\n",
              "      <th>8</th>\n",
              "      <td>MONFORTE DE LEMOS</td>\n",
              "      <td>AVENIDA</td>\n",
              "      <td>20</td>\n",
              "      <td>AVENIDA MONFORTE DE LEMOS, 20, Madrid, Spain</td>\n",
              "      <td>(40.4800946, -3.6996555)</td>\n",
              "    </tr>\n",
              "    <tr>\n",
              "      <th>9</th>\n",
              "      <td>SAN NORBERTO</td>\n",
              "      <td>CALLE</td>\n",
              "      <td>54</td>\n",
              "      <td>CALLE SAN NORBERTO, 54, Madrid, Spain</td>\n",
              "      <td>(40.3399108, -3.7069834)</td>\n",
              "    </tr>\n",
              "    <tr>\n",
              "      <th>10</th>\n",
              "      <td>MESENA</td>\n",
              "      <td>CALLE</td>\n",
              "      <td>146</td>\n",
              "      <td>CALLE MESENA, 146, Madrid, Spain</td>\n",
              "      <td>(40.4742888, -3.6650986)</td>\n",
              "    </tr>\n",
              "    <tr>\n",
              "      <th>11</th>\n",
              "      <td>POBLADOS</td>\n",
              "      <td>AVENIDA</td>\n",
              "      <td>48</td>\n",
              "      <td>AVENIDA POBLADOS, 48, Madrid, Spain</td>\n",
              "      <td>(40.3878369, -3.7649168)</td>\n",
              "    </tr>\n",
              "    <tr>\n",
              "      <th>12</th>\n",
              "      <td>LAS SANTERAS</td>\n",
              "      <td>CALLE</td>\n",
              "      <td>39</td>\n",
              "      <td>CALLE LAS SANTERAS, 39, Madrid, Spain</td>\n",
              "      <td>(40.3911576, -3.5896932)</td>\n",
              "    </tr>\n",
              "  </tbody>\n",
              "</table>\n",
              "</div>\n",
              "    <div class=\"colab-df-buttons\">\n",
              "\n",
              "  <div class=\"colab-df-container\">\n",
              "    <button class=\"colab-df-convert\" onclick=\"convertToInteractive('df-ed118fb8-2e0a-4beb-9b08-004ed6461c10')\"\n",
              "            title=\"Convert this dataframe to an interactive table.\"\n",
              "            style=\"display:none;\">\n",
              "\n",
              "  <svg xmlns=\"http://www.w3.org/2000/svg\" height=\"24px\" viewBox=\"0 -960 960 960\">\n",
              "    <path d=\"M120-120v-720h720v720H120Zm60-500h600v-160H180v160Zm220 220h160v-160H400v160Zm0 220h160v-160H400v160ZM180-400h160v-160H180v160Zm440 0h160v-160H620v160ZM180-180h160v-160H180v160Zm440 0h160v-160H620v160Z\"/>\n",
              "  </svg>\n",
              "    </button>\n",
              "\n",
              "  <style>\n",
              "    .colab-df-container {\n",
              "      display:flex;\n",
              "      gap: 12px;\n",
              "    }\n",
              "\n",
              "    .colab-df-convert {\n",
              "      background-color: #E8F0FE;\n",
              "      border: none;\n",
              "      border-radius: 50%;\n",
              "      cursor: pointer;\n",
              "      display: none;\n",
              "      fill: #1967D2;\n",
              "      height: 32px;\n",
              "      padding: 0 0 0 0;\n",
              "      width: 32px;\n",
              "    }\n",
              "\n",
              "    .colab-df-convert:hover {\n",
              "      background-color: #E2EBFA;\n",
              "      box-shadow: 0px 1px 2px rgba(60, 64, 67, 0.3), 0px 1px 3px 1px rgba(60, 64, 67, 0.15);\n",
              "      fill: #174EA6;\n",
              "    }\n",
              "\n",
              "    .colab-df-buttons div {\n",
              "      margin-bottom: 4px;\n",
              "    }\n",
              "\n",
              "    [theme=dark] .colab-df-convert {\n",
              "      background-color: #3B4455;\n",
              "      fill: #D2E3FC;\n",
              "    }\n",
              "\n",
              "    [theme=dark] .colab-df-convert:hover {\n",
              "      background-color: #434B5C;\n",
              "      box-shadow: 0px 1px 3px 1px rgba(0, 0, 0, 0.15);\n",
              "      filter: drop-shadow(0px 1px 2px rgba(0, 0, 0, 0.3));\n",
              "      fill: #FFFFFF;\n",
              "    }\n",
              "  </style>\n",
              "\n",
              "    <script>\n",
              "      const buttonEl =\n",
              "        document.querySelector('#df-ed118fb8-2e0a-4beb-9b08-004ed6461c10 button.colab-df-convert');\n",
              "      buttonEl.style.display =\n",
              "        google.colab.kernel.accessAllowed ? 'block' : 'none';\n",
              "\n",
              "      async function convertToInteractive(key) {\n",
              "        const element = document.querySelector('#df-ed118fb8-2e0a-4beb-9b08-004ed6461c10');\n",
              "        const dataTable =\n",
              "          await google.colab.kernel.invokeFunction('convertToInteractive',\n",
              "                                                    [key], {});\n",
              "        if (!dataTable) return;\n",
              "\n",
              "        const docLinkHtml = 'Like what you see? Visit the ' +\n",
              "          '<a target=\"_blank\" href=https://colab.research.google.com/notebooks/data_table.ipynb>data table notebook</a>'\n",
              "          + ' to learn more about interactive tables.';\n",
              "        element.innerHTML = '';\n",
              "        dataTable['output_type'] = 'display_data';\n",
              "        await google.colab.output.renderOutput(dataTable, element);\n",
              "        const docLink = document.createElement('div');\n",
              "        docLink.innerHTML = docLinkHtml;\n",
              "        element.appendChild(docLink);\n",
              "      }\n",
              "    </script>\n",
              "  </div>\n",
              "\n",
              "\n",
              "<div id=\"df-1b79ab97-9a33-4266-9d7a-0ddc2ff181a8\">\n",
              "  <button class=\"colab-df-quickchart\" onclick=\"quickchart('df-1b79ab97-9a33-4266-9d7a-0ddc2ff181a8')\"\n",
              "            title=\"Suggest charts\"\n",
              "            style=\"display:none;\">\n",
              "\n",
              "<svg xmlns=\"http://www.w3.org/2000/svg\" height=\"24px\"viewBox=\"0 0 24 24\"\n",
              "     width=\"24px\">\n",
              "    <g>\n",
              "        <path d=\"M19 3H5c-1.1 0-2 .9-2 2v14c0 1.1.9 2 2 2h14c1.1 0 2-.9 2-2V5c0-1.1-.9-2-2-2zM9 17H7v-7h2v7zm4 0h-2V7h2v10zm4 0h-2v-4h2v4z\"/>\n",
              "    </g>\n",
              "</svg>\n",
              "  </button>\n",
              "\n",
              "<style>\n",
              "  .colab-df-quickchart {\n",
              "      --bg-color: #E8F0FE;\n",
              "      --fill-color: #1967D2;\n",
              "      --hover-bg-color: #E2EBFA;\n",
              "      --hover-fill-color: #174EA6;\n",
              "      --disabled-fill-color: #AAA;\n",
              "      --disabled-bg-color: #DDD;\n",
              "  }\n",
              "\n",
              "  [theme=dark] .colab-df-quickchart {\n",
              "      --bg-color: #3B4455;\n",
              "      --fill-color: #D2E3FC;\n",
              "      --hover-bg-color: #434B5C;\n",
              "      --hover-fill-color: #FFFFFF;\n",
              "      --disabled-bg-color: #3B4455;\n",
              "      --disabled-fill-color: #666;\n",
              "  }\n",
              "\n",
              "  .colab-df-quickchart {\n",
              "    background-color: var(--bg-color);\n",
              "    border: none;\n",
              "    border-radius: 50%;\n",
              "    cursor: pointer;\n",
              "    display: none;\n",
              "    fill: var(--fill-color);\n",
              "    height: 32px;\n",
              "    padding: 0;\n",
              "    width: 32px;\n",
              "  }\n",
              "\n",
              "  .colab-df-quickchart:hover {\n",
              "    background-color: var(--hover-bg-color);\n",
              "    box-shadow: 0 1px 2px rgba(60, 64, 67, 0.3), 0 1px 3px 1px rgba(60, 64, 67, 0.15);\n",
              "    fill: var(--button-hover-fill-color);\n",
              "  }\n",
              "\n",
              "  .colab-df-quickchart-complete:disabled,\n",
              "  .colab-df-quickchart-complete:disabled:hover {\n",
              "    background-color: var(--disabled-bg-color);\n",
              "    fill: var(--disabled-fill-color);\n",
              "    box-shadow: none;\n",
              "  }\n",
              "\n",
              "  .colab-df-spinner {\n",
              "    border: 2px solid var(--fill-color);\n",
              "    border-color: transparent;\n",
              "    border-bottom-color: var(--fill-color);\n",
              "    animation:\n",
              "      spin 1s steps(1) infinite;\n",
              "  }\n",
              "\n",
              "  @keyframes spin {\n",
              "    0% {\n",
              "      border-color: transparent;\n",
              "      border-bottom-color: var(--fill-color);\n",
              "      border-left-color: var(--fill-color);\n",
              "    }\n",
              "    20% {\n",
              "      border-color: transparent;\n",
              "      border-left-color: var(--fill-color);\n",
              "      border-top-color: var(--fill-color);\n",
              "    }\n",
              "    30% {\n",
              "      border-color: transparent;\n",
              "      border-left-color: var(--fill-color);\n",
              "      border-top-color: var(--fill-color);\n",
              "      border-right-color: var(--fill-color);\n",
              "    }\n",
              "    40% {\n",
              "      border-color: transparent;\n",
              "      border-right-color: var(--fill-color);\n",
              "      border-top-color: var(--fill-color);\n",
              "    }\n",
              "    60% {\n",
              "      border-color: transparent;\n",
              "      border-right-color: var(--fill-color);\n",
              "    }\n",
              "    80% {\n",
              "      border-color: transparent;\n",
              "      border-right-color: var(--fill-color);\n",
              "      border-bottom-color: var(--fill-color);\n",
              "    }\n",
              "    90% {\n",
              "      border-color: transparent;\n",
              "      border-bottom-color: var(--fill-color);\n",
              "    }\n",
              "  }\n",
              "</style>\n",
              "\n",
              "  <script>\n",
              "    async function quickchart(key) {\n",
              "      const quickchartButtonEl =\n",
              "        document.querySelector('#' + key + ' button');\n",
              "      quickchartButtonEl.disabled = true;  // To prevent multiple clicks.\n",
              "      quickchartButtonEl.classList.add('colab-df-spinner');\n",
              "      try {\n",
              "        const charts = await google.colab.kernel.invokeFunction(\n",
              "            'suggestCharts', [key], {});\n",
              "      } catch (error) {\n",
              "        console.error('Error during call to suggestCharts:', error);\n",
              "      }\n",
              "      quickchartButtonEl.classList.remove('colab-df-spinner');\n",
              "      quickchartButtonEl.classList.add('colab-df-quickchart-complete');\n",
              "    }\n",
              "    (() => {\n",
              "      let quickchartButtonEl =\n",
              "        document.querySelector('#df-1b79ab97-9a33-4266-9d7a-0ddc2ff181a8 button');\n",
              "      quickchartButtonEl.style.display =\n",
              "        google.colab.kernel.accessAllowed ? 'block' : 'none';\n",
              "    })();\n",
              "  </script>\n",
              "</div>\n",
              "\n",
              "  <div id=\"id_30ed43ed-7e4a-4daf-b02f-2e34448f54ea\">\n",
              "    <style>\n",
              "      .colab-df-generate {\n",
              "        background-color: #E8F0FE;\n",
              "        border: none;\n",
              "        border-radius: 50%;\n",
              "        cursor: pointer;\n",
              "        display: none;\n",
              "        fill: #1967D2;\n",
              "        height: 32px;\n",
              "        padding: 0 0 0 0;\n",
              "        width: 32px;\n",
              "      }\n",
              "\n",
              "      .colab-df-generate:hover {\n",
              "        background-color: #E2EBFA;\n",
              "        box-shadow: 0px 1px 2px rgba(60, 64, 67, 0.3), 0px 1px 3px 1px rgba(60, 64, 67, 0.15);\n",
              "        fill: #174EA6;\n",
              "      }\n",
              "\n",
              "      [theme=dark] .colab-df-generate {\n",
              "        background-color: #3B4455;\n",
              "        fill: #D2E3FC;\n",
              "      }\n",
              "\n",
              "      [theme=dark] .colab-df-generate:hover {\n",
              "        background-color: #434B5C;\n",
              "        box-shadow: 0px 1px 3px 1px rgba(0, 0, 0, 0.15);\n",
              "        filter: drop-shadow(0px 1px 2px rgba(0, 0, 0, 0.3));\n",
              "        fill: #FFFFFF;\n",
              "      }\n",
              "    </style>\n",
              "    <button class=\"colab-df-generate\" onclick=\"generateWithVariable('df')\"\n",
              "            title=\"Generate code using this dataframe.\"\n",
              "            style=\"display:none;\">\n",
              "\n",
              "  <svg xmlns=\"http://www.w3.org/2000/svg\" height=\"24px\"viewBox=\"0 0 24 24\"\n",
              "       width=\"24px\">\n",
              "    <path d=\"M7,19H8.4L18.45,9,17,7.55,7,17.6ZM5,21V16.75L18.45,3.32a2,2,0,0,1,2.83,0l1.4,1.43a1.91,1.91,0,0,1,.58,1.4,1.91,1.91,0,0,1-.58,1.4L9.25,21ZM18.45,9,17,7.55Zm-12,3A5.31,5.31,0,0,0,4.9,8.1,5.31,5.31,0,0,0,1,6.5,5.31,5.31,0,0,0,4.9,4.9,5.31,5.31,0,0,0,6.5,1,5.31,5.31,0,0,0,8.1,4.9,5.31,5.31,0,0,0,12,6.5,5.46,5.46,0,0,0,6.5,12Z\"/>\n",
              "  </svg>\n",
              "    </button>\n",
              "    <script>\n",
              "      (() => {\n",
              "      const buttonEl =\n",
              "        document.querySelector('#id_30ed43ed-7e4a-4daf-b02f-2e34448f54ea button.colab-df-generate');\n",
              "      buttonEl.style.display =\n",
              "        google.colab.kernel.accessAllowed ? 'block' : 'none';\n",
              "\n",
              "      buttonEl.onclick = () => {\n",
              "        google.colab.notebook.generateWithVariable('df');\n",
              "      }\n",
              "      })();\n",
              "    </script>\n",
              "  </div>\n",
              "\n",
              "    </div>\n",
              "  </div>\n"
            ],
            "application/vnd.google.colaboratory.intrinsic+json": {
              "type": "dataframe",
              "variable_name": "df",
              "summary": "{\n  \"name\": \"df\",\n  \"rows\": 13,\n  \"fields\": [\n    {\n      \"column\": \"NOMBRE-VIA\",\n      \"properties\": {\n        \"dtype\": \"string\",\n        \"num_unique_values\": 13,\n        \"samples\": [\n          \"POBLADOS\",\n          \"SAN NORBERTO\",\n          \"SANTA ENGRACIA\"\n        ],\n        \"semantic_type\": \"\",\n        \"description\": \"\"\n      }\n    },\n    {\n      \"column\": \"CLASE-VIAL\",\n      \"properties\": {\n        \"dtype\": \"category\",\n        \"num_unique_values\": 4,\n        \"samples\": [\n          \"RONDA\",\n          \"AVENIDA\",\n          \"CALLE\"\n        ],\n        \"semantic_type\": \"\",\n        \"description\": \"\"\n      }\n    },\n    {\n      \"column\": \"NUM\",\n      \"properties\": {\n        \"dtype\": \"number\",\n        \"std\": 41,\n        \"min\": 2,\n        \"max\": 146,\n        \"num_unique_values\": 12,\n        \"samples\": [\n          48,\n          146,\n          118\n        ],\n        \"semantic_type\": \"\",\n        \"description\": \"\"\n      }\n    },\n    {\n      \"column\": \"Direccion\",\n      \"properties\": {\n        \"dtype\": \"string\",\n        \"num_unique_values\": 13,\n        \"samples\": [\n          \"AVENIDA POBLADOS, 48, Madrid, Spain\",\n          \"CALLE SAN NORBERTO, 54, Madrid, Spain\",\n          \"CALLE SANTA ENGRACIA, 118, Madrid, Spain\"\n        ],\n        \"semantic_type\": \"\",\n        \"description\": \"\"\n      }\n    },\n    {\n      \"column\": \"coord\",\n      \"properties\": {\n        \"dtype\": \"string\",\n        \"num_unique_values\": 13,\n        \"samples\": [\n          [\n            40.3878369,\n            -3.7649168\n          ],\n          [\n            40.3399108,\n            -3.7069834\n          ],\n          [\n            40.4401957,\n            -3.7007281\n          ]\n        ],\n        \"semantic_type\": \"\",\n        \"description\": \"\"\n      }\n    }\n  ]\n}"
            }
          },
          "metadata": {},
          "execution_count": 10
        }
      ],
      "source": [
        "df = pd.read_csv('./utils_ucm/data/211642-1-bomberos-parques.csv', sep=';', usecols=(9,10,12))\n",
        "df['Direccion'] = df.apply(lambda x: str(x['CLASE-VIAL'] + ' ' + x['NOMBRE-VIA']) + ', ' + str(x.NUM) + ', Madrid, Spain', axis=1)\n",
        "df['coord'] = df['Direccion'].apply(lambda x: direcc(x))\n",
        "df"
      ]
    },
    {
      "cell_type": "code",
      "execution_count": 11,
      "id": "0fe44678",
      "metadata": {
        "colab": {
          "base_uri": "https://localhost:8080/"
        },
        "id": "0fe44678",
        "outputId": "ba2132ee-db1b-4536-9f09-f4b6003d23a9"
      },
      "outputs": [
        {
          "output_type": "execute_result",
          "data": {
            "text/plain": [
              "array([(40.4401957, -3.7007281), (40.4280535, -3.6667525),\n",
              "       (40.4065806, -3.7107557), (40.3450356, -3.713301),\n",
              "       (40.3922304, -3.7066515), (40.426741, -3.7065449),\n",
              "       (40.4284002, -3.6155508), (40.3946351, -3.653046299999999),\n",
              "       (40.4800946, -3.6996555), (40.3399108, -3.7069834),\n",
              "       (40.4742888, -3.6650986), (40.3878369, -3.7649168),\n",
              "       (40.3911576, -3.5896932)], dtype=object)"
            ]
          },
          "metadata": {},
          "execution_count": 11
        }
      ],
      "source": [
        "#Guardo las coordenadas en un array:\n",
        "coord_riesgos = np.asarray(df.coord)\n",
        "coord_riesgos"
      ]
    },
    {
      "cell_type": "markdown",
      "id": "73873fb8",
      "metadata": {
        "id": "73873fb8"
      },
      "source": [
        "## Gráfico con Folium"
      ]
    },
    {
      "cell_type": "code",
      "execution_count": 12,
      "id": "c0594846",
      "metadata": {
        "id": "c0594846"
      },
      "outputs": [],
      "source": [
        "from folium import Map, plugins\n",
        "from folium.plugins import HeatMap"
      ]
    },
    {
      "cell_type": "markdown",
      "id": "3fedf295",
      "metadata": {
        "id": "3fedf295"
      },
      "source": [
        "Centro el mapa en Madrid:"
      ]
    },
    {
      "cell_type": "code",
      "execution_count": 13,
      "id": "d66a9c0b",
      "metadata": {
        "id": "d66a9c0b"
      },
      "outputs": [],
      "source": [
        "map_madrid = Map(location=[40.41686, -3.7041056], zoom_start = 12)"
      ]
    },
    {
      "cell_type": "code",
      "execution_count": 14,
      "id": "33309aa9",
      "metadata": {
        "colab": {
          "base_uri": "https://localhost:8080/",
          "height": 901
        },
        "id": "33309aa9",
        "outputId": "8f73e214-9e75-4d77-f5e3-0fcfea06536e"
      },
      "outputs": [
        {
          "output_type": "execute_result",
          "data": {
            "text/plain": [
              "<folium.folium.Map at 0x781da5325ed0>"
            ],
            "text/html": [
              "<div style=\"width:100%;\"><div style=\"position:relative;width:100%;height:0;padding-bottom:60%;\"><span style=\"color:#565656\">Make this Notebook Trusted to load map: File -> Trust Notebook</span><iframe srcdoc=\"&lt;!DOCTYPE html&gt;\n",
              "&lt;html&gt;\n",
              "&lt;head&gt;\n",
              "    \n",
              "    &lt;meta http-equiv=&quot;content-type&quot; content=&quot;text/html; charset=UTF-8&quot; /&gt;\n",
              "    \n",
              "        &lt;script&gt;\n",
              "            L_NO_TOUCH = false;\n",
              "            L_DISABLE_3D = false;\n",
              "        &lt;/script&gt;\n",
              "    \n",
              "    &lt;style&gt;html, body {width: 100%;height: 100%;margin: 0;padding: 0;}&lt;/style&gt;\n",
              "    &lt;style&gt;#map {position:absolute;top:0;bottom:0;right:0;left:0;}&lt;/style&gt;\n",
              "    &lt;script src=&quot;https://cdn.jsdelivr.net/npm/leaflet@1.9.3/dist/leaflet.js&quot;&gt;&lt;/script&gt;\n",
              "    &lt;script src=&quot;https://code.jquery.com/jquery-3.7.1.min.js&quot;&gt;&lt;/script&gt;\n",
              "    &lt;script src=&quot;https://cdn.jsdelivr.net/npm/bootstrap@5.2.2/dist/js/bootstrap.bundle.min.js&quot;&gt;&lt;/script&gt;\n",
              "    &lt;script src=&quot;https://cdnjs.cloudflare.com/ajax/libs/Leaflet.awesome-markers/2.0.2/leaflet.awesome-markers.js&quot;&gt;&lt;/script&gt;\n",
              "    &lt;link rel=&quot;stylesheet&quot; href=&quot;https://cdn.jsdelivr.net/npm/leaflet@1.9.3/dist/leaflet.css&quot;/&gt;\n",
              "    &lt;link rel=&quot;stylesheet&quot; href=&quot;https://cdn.jsdelivr.net/npm/bootstrap@5.2.2/dist/css/bootstrap.min.css&quot;/&gt;\n",
              "    &lt;link rel=&quot;stylesheet&quot; href=&quot;https://netdna.bootstrapcdn.com/bootstrap/3.0.0/css/bootstrap-glyphicons.css&quot;/&gt;\n",
              "    &lt;link rel=&quot;stylesheet&quot; href=&quot;https://cdn.jsdelivr.net/npm/@fortawesome/fontawesome-free@6.2.0/css/all.min.css&quot;/&gt;\n",
              "    &lt;link rel=&quot;stylesheet&quot; href=&quot;https://cdnjs.cloudflare.com/ajax/libs/Leaflet.awesome-markers/2.0.2/leaflet.awesome-markers.css&quot;/&gt;\n",
              "    &lt;link rel=&quot;stylesheet&quot; href=&quot;https://cdn.jsdelivr.net/gh/python-visualization/folium/folium/templates/leaflet.awesome.rotate.min.css&quot;/&gt;\n",
              "    \n",
              "            &lt;meta name=&quot;viewport&quot; content=&quot;width=device-width,\n",
              "                initial-scale=1.0, maximum-scale=1.0, user-scalable=no&quot; /&gt;\n",
              "            &lt;style&gt;\n",
              "                #map_ab3b9d3e147f3f3e7d4d1639d63d07f6 {\n",
              "                    position: relative;\n",
              "                    width: 100.0%;\n",
              "                    height: 100.0%;\n",
              "                    left: 0.0%;\n",
              "                    top: 0.0%;\n",
              "                }\n",
              "                .leaflet-container { font-size: 1rem; }\n",
              "            &lt;/style&gt;\n",
              "        \n",
              "    &lt;script src=&quot;https://cdn.jsdelivr.net/gh/python-visualization/folium@main/folium/templates/leaflet_heat.min.js&quot;&gt;&lt;/script&gt;\n",
              "&lt;/head&gt;\n",
              "&lt;body&gt;\n",
              "    \n",
              "    \n",
              "            &lt;div class=&quot;folium-map&quot; id=&quot;map_ab3b9d3e147f3f3e7d4d1639d63d07f6&quot; &gt;&lt;/div&gt;\n",
              "        \n",
              "&lt;/body&gt;\n",
              "&lt;script&gt;\n",
              "    \n",
              "    \n",
              "            var map_ab3b9d3e147f3f3e7d4d1639d63d07f6 = L.map(\n",
              "                &quot;map_ab3b9d3e147f3f3e7d4d1639d63d07f6&quot;,\n",
              "                {\n",
              "                    center: [40.41686, -3.7041056],\n",
              "                    crs: L.CRS.EPSG3857,\n",
              "                    ...{\n",
              "  &quot;zoom&quot;: 12,\n",
              "  &quot;zoomControl&quot;: true,\n",
              "  &quot;preferCanvas&quot;: false,\n",
              "}\n",
              "\n",
              "                }\n",
              "            );\n",
              "\n",
              "            \n",
              "\n",
              "        \n",
              "    \n",
              "            var tile_layer_d5ffaf1c11bb3f1f140fba25cf75852f = L.tileLayer(\n",
              "                &quot;https://tile.openstreetmap.org/{z}/{x}/{y}.png&quot;,\n",
              "                {\n",
              "  &quot;minZoom&quot;: 0,\n",
              "  &quot;maxZoom&quot;: 19,\n",
              "  &quot;maxNativeZoom&quot;: 19,\n",
              "  &quot;noWrap&quot;: false,\n",
              "  &quot;attribution&quot;: &quot;\\u0026copy; \\u003ca href=\\&quot;https://www.openstreetmap.org/copyright\\&quot;\\u003eOpenStreetMap\\u003c/a\\u003e contributors&quot;,\n",
              "  &quot;subdomains&quot;: &quot;abc&quot;,\n",
              "  &quot;detectRetina&quot;: false,\n",
              "  &quot;tms&quot;: false,\n",
              "  &quot;opacity&quot;: 1,\n",
              "}\n",
              "\n",
              "            );\n",
              "        \n",
              "    \n",
              "            tile_layer_d5ffaf1c11bb3f1f140fba25cf75852f.addTo(map_ab3b9d3e147f3f3e7d4d1639d63d07f6);\n",
              "        \n",
              "    \n",
              "            var heat_map_ad879b972aeb2f112e47172a8f5d93f3 = L.heatLayer(\n",
              "                [[40.4401957, -3.7007281], [40.4280535, -3.6667525], [40.4065806, -3.7107557], [40.3450356, -3.713301], [40.3922304, -3.7066515], [40.426741, -3.7065449], [40.4284002, -3.6155508], [40.3946351, -3.653046299999999], [40.4800946, -3.6996555], [40.3399108, -3.7069834], [40.4742888, -3.6650986], [40.3878369, -3.7649168], [40.3911576, -3.5896932]],\n",
              "                {\n",
              "  &quot;minOpacity&quot;: 0.5,\n",
              "  &quot;maxZoom&quot;: 18,\n",
              "  &quot;radius&quot;: 20,\n",
              "  &quot;blur&quot;: 15,\n",
              "}\n",
              "            );\n",
              "        \n",
              "    \n",
              "            heat_map_ad879b972aeb2f112e47172a8f5d93f3.addTo(map_ab3b9d3e147f3f3e7d4d1639d63d07f6);\n",
              "        \n",
              "&lt;/script&gt;\n",
              "&lt;/html&gt;\" style=\"position:absolute;width:100%;height:100%;left:0;top:0;border:none !important;\" allowfullscreen webkitallowfullscreen mozallowfullscreen></iframe></div></div>"
            ]
          },
          "metadata": {},
          "execution_count": 14
        }
      ],
      "source": [
        "coord_riesgos = np.asarray(df.coord)\n",
        "HeatMap(coord_riesgos, radius=20).add_to(map_madrid)\n",
        "map_madrid"
      ]
    },
    {
      "cell_type": "markdown",
      "id": "bb90e41f",
      "metadata": {
        "id": "bb90e41f"
      },
      "source": [
        "### Calculo del punto de mayor concentracion en un radio de 500 metros con **scipy.spatial**"
      ]
    },
    {
      "cell_type": "code",
      "execution_count": 15,
      "id": "bf5771b0",
      "metadata": {
        "colab": {
          "base_uri": "https://localhost:8080/"
        },
        "id": "bf5771b0",
        "outputId": "94314306-3779-4be6-ad14-24f37e753ee1"
      },
      "outputs": [
        {
          "output_type": "execute_result",
          "data": {
            "text/plain": [
              "array([[0.        , 0.03608011, 0.03507888, 0.0959871 , 0.04832967,\n",
              "        0.01465824, 0.08599015, 0.06594939, 0.03991331, 0.1004798 ,\n",
              "        0.04931329, 0.08283498, 0.12138156],\n",
              "       [0.03608011, 0.        , 0.04896291, 0.09517738, 0.05362112,\n",
              "        0.03981404, 0.05120287, 0.03611993, 0.06157015, 0.09688994,\n",
              "        0.04626487, 0.10608301, 0.08543678],\n",
              "       [0.03507888, 0.04896291, 0.        , 0.06159761, 0.01492557,\n",
              "        0.02059545, 0.09767327, 0.05893276, 0.07434731, 0.06677644,\n",
              "        0.08166377, 0.05731275, 0.12204097],\n",
              "       [0.0959871 , 0.09517738, 0.06159761, 0.        , 0.04766094,\n",
              "        0.08198425, 0.12847085, 0.07804319, 0.13574658, 0.00813484,\n",
              "        0.13794876, 0.06705328, 0.13193228],\n",
              "       [0.04832967, 0.05362112, 0.01492557, 0.04766094, 0.        ,\n",
              "        0.03451076, 0.09801832, 0.05365911, 0.08814228, 0.05232065,\n",
              "        0.09197948, 0.05843071, 0.11696322],\n",
              "       [0.01465824, 0.03981404, 0.02059545, 0.08198425, 0.03451076,\n",
              "        0.        , 0.09100923, 0.06239302, 0.05379657, 0.08683131,\n",
              "        0.06307606, 0.07014847, 0.12214949],\n",
              "       [0.08599015, 0.05120287, 0.09767327, 0.12847085, 0.09801832,\n",
              "        0.09100923, 0.        , 0.05045785, 0.09872138, 0.12724109,\n",
              "        0.06753331, 0.15477591, 0.04533902],\n",
              "       [0.06594939, 0.03611993, 0.05893276, 0.07804319, 0.05365911,\n",
              "        0.06239302, 0.05045785, 0.        , 0.09734343, 0.07683723,\n",
              "        0.08056035, 0.11207687, 0.06344847],\n",
              "       [0.03991331, 0.06157015, 0.07434731, 0.13574658, 0.08814228,\n",
              "        0.05379657, 0.09872138, 0.09734343, 0.        , 0.1403752 ,\n",
              "        0.03504121, 0.11300673, 0.14142665],\n",
              "       [0.1004798 , 0.09688994, 0.06677644, 0.00813484, 0.05232065,\n",
              "        0.08683131, 0.12724109, 0.07683723, 0.1403752 , 0.        ,\n",
              "        0.14075434, 0.0751877 , 0.12799697],\n",
              "       [0.04931329, 0.04626487, 0.08166377, 0.13794876, 0.09197948,\n",
              "        0.06307606, 0.06753331, 0.08056035, 0.03504121, 0.14075434,\n",
              "        0.        , 0.13205152, 0.11223534],\n",
              "       [0.08283498, 0.10608301, 0.05731275, 0.06705328, 0.05843071,\n",
              "        0.07014847, 0.15477591, 0.11207687, 0.11300673, 0.0751877 ,\n",
              "        0.13205152, 0.        , 0.17525506],\n",
              "       [0.12138156, 0.08543678, 0.12204097, 0.13193228, 0.11696322,\n",
              "        0.12214949, 0.04533902, 0.06344847, 0.14142665, 0.12799697,\n",
              "        0.11223534, 0.17525506, 0.        ]])"
            ]
          },
          "metadata": {},
          "execution_count": 15
        }
      ],
      "source": [
        "from scipy.spatial.distance import cdist\n",
        "\n",
        "puntos = list(coord_riesgos)\n",
        "\n",
        "# Calcular la matriz de distancias entre los puntos\n",
        "distancias = cdist(puntos, puntos, 'euclidean')\n",
        "distancias"
      ]
    },
    {
      "cell_type": "markdown",
      "id": "28872408",
      "metadata": {
        "id": "28872408"
      },
      "source": [
        "Calculo la cantidad de puntos dentro del radio de 500 metros para cada punto"
      ]
    },
    {
      "cell_type": "code",
      "execution_count": 16,
      "id": "17cd8899",
      "metadata": {
        "colab": {
          "base_uri": "https://localhost:8080/"
        },
        "id": "17cd8899",
        "outputId": "b2a45d7d-5ea6-4b11-9169-e938c5fb3598"
      },
      "outputs": [
        {
          "output_type": "execute_result",
          "data": {
            "text/plain": [
              "[((40.4401957, -3.7007281), np.int64(6)),\n",
              " ((40.4280535, -3.6667525), np.int64(5)),\n",
              " ((40.4065806, -3.7107557), np.int64(4)),\n",
              " ((40.3450356, -3.713301), np.int64(2)),\n",
              " ((40.3922304, -3.7066515), np.int64(4)),\n",
              " ((40.426741, -3.7065449), np.int64(4)),\n",
              " ((40.4284002, -3.6155508), np.int64(1)),\n",
              " ((40.3946351, -3.653046299999999), np.int64(1)),\n",
              " ((40.4800946, -3.6996555), np.int64(2)),\n",
              " ((40.3399108, -3.7069834), np.int64(1)),\n",
              " ((40.4742888, -3.6650986), np.int64(3)),\n",
              " ((40.3878369, -3.7649168), np.int64(0)),\n",
              " ((40.3911576, -3.5896932), np.int64(1))]"
            ]
          },
          "metadata": {},
          "execution_count": 16
        }
      ],
      "source": [
        "puntos_concentrados = []\n",
        "\n",
        "for i, punto in enumerate(puntos):\n",
        "    puntos_cercanos = distancias[i] < .05   # Puntos dentro del radio\n",
        "    concentracion = sum(puntos_cercanos) - 1  # Restar 1 para excluir el propio punto\n",
        "    puntos_concentrados.append((punto, concentracion))\n",
        "\n",
        "puntos_concentrados"
      ]
    },
    {
      "cell_type": "markdown",
      "id": "4b1408ab",
      "metadata": {
        "id": "4b1408ab"
      },
      "source": [
        "Ordeno la lista de puntos por concentración de mayor a menor e imprimo la lista de puntos con mayor concentración"
      ]
    },
    {
      "cell_type": "code",
      "execution_count": 17,
      "id": "865dec78",
      "metadata": {
        "colab": {
          "base_uri": "https://localhost:8080/"
        },
        "id": "865dec78",
        "outputId": "558517ef-9b10-4cbe-ea52-c441305a960c"
      },
      "outputs": [
        {
          "output_type": "stream",
          "name": "stdout",
          "text": [
            "Punto: (40.4401957, -3.7007281), Concentracion: 6\n",
            "Punto: (40.4280535, -3.6667525), Concentracion: 5\n",
            "Punto: (40.4065806, -3.7107557), Concentracion: 4\n",
            "Punto: (40.3922304, -3.7066515), Concentracion: 4\n",
            "Punto: (40.426741, -3.7065449), Concentracion: 4\n",
            "Punto: (40.4742888, -3.6650986), Concentracion: 3\n",
            "Punto: (40.3450356, -3.713301), Concentracion: 2\n",
            "Punto: (40.4800946, -3.6996555), Concentracion: 2\n",
            "Punto: (40.4284002, -3.6155508), Concentracion: 1\n",
            "Punto: (40.3946351, -3.653046299999999), Concentracion: 1\n",
            "Punto: (40.3399108, -3.7069834), Concentracion: 1\n",
            "Punto: (40.3911576, -3.5896932), Concentracion: 1\n",
            "Punto: (40.3878369, -3.7649168), Concentracion: 0\n"
          ]
        }
      ],
      "source": [
        "puntos_concentrados.sort(key=lambda x: x[1], reverse=True)\n",
        "\n",
        "for punto, concentracion in puntos_concentrados:\n",
        "    print(f\"Punto: {punto}, Concentracion: {concentracion}\")"
      ]
    }
  ],
  "metadata": {
    "kernelspec": {
      "display_name": "Python 3 (ipykernel)",
      "language": "python",
      "name": "python3"
    },
    "language_info": {
      "codemirror_mode": {
        "name": "ipython",
        "version": 3
      },
      "file_extension": ".py",
      "mimetype": "text/x-python",
      "name": "python",
      "nbconvert_exporter": "python",
      "pygments_lexer": "ipython3",
      "version": "3.8.10"
    },
    "colab": {
      "provenance": [],
      "include_colab_link": true
    }
  },
  "nbformat": 4,
  "nbformat_minor": 5
}