{
  "cells": [
    {
      "cell_type": "code",
      "execution_count": 2,
      "metadata": {
        "id": "m48b8iVgUmlr"
      },
      "outputs": [],
      "source": [
        "from statsmodels.formula.api import ols\n",
        "import pandas as pd\n",
        "import matplotlib.pyplot as plt\n",
        "import numpy as np"
      ]
    },
    {
      "cell_type": "code",
      "execution_count": 3,
      "metadata": {
        "colab": {
          "base_uri": "https://localhost:8080/",
          "height": 363
        },
        "id": "uSLLzjh_Umlt",
        "outputId": "79e575a3-f251-4fda-998f-e3524ab6f315"
      },
      "outputs": [
        {
          "data": {
            "text/html": [
              "<div>\n",
              "<style scoped>\n",
              "    .dataframe tbody tr th:only-of-type {\n",
              "        vertical-align: middle;\n",
              "    }\n",
              "\n",
              "    .dataframe tbody tr th {\n",
              "        vertical-align: top;\n",
              "    }\n",
              "\n",
              "    .dataframe thead th {\n",
              "        text-align: right;\n",
              "    }\n",
              "</style>\n",
              "<table border=\"1\" class=\"dataframe\">\n",
              "  <thead>\n",
              "    <tr style=\"text-align: right;\">\n",
              "      <th></th>\n",
              "      <th>y</th>\n",
              "      <th>x</th>\n",
              "    </tr>\n",
              "  </thead>\n",
              "  <tbody>\n",
              "    <tr>\n",
              "      <th>2015</th>\n",
              "      <td>36006381096</td>\n",
              "      <td>53625600</td>\n",
              "    </tr>\n",
              "    <tr>\n",
              "      <th>2016</th>\n",
              "      <td>41809696036</td>\n",
              "      <td>53446600</td>\n",
              "    </tr>\n",
              "    <tr>\n",
              "      <th>2017</th>\n",
              "      <td>37257792859</td>\n",
              "      <td>54066500</td>\n",
              "    </tr>\n",
              "    <tr>\n",
              "      <th>2018</th>\n",
              "      <td>44400894693</td>\n",
              "      <td>57145800</td>\n",
              "    </tr>\n",
              "    <tr>\n",
              "      <th>2019</th>\n",
              "      <td>48437970761</td>\n",
              "      <td>60930800</td>\n",
              "    </tr>\n",
              "    <tr>\n",
              "      <th>2020</th>\n",
              "      <td>64407751577</td>\n",
              "      <td>61222200</td>\n",
              "    </tr>\n",
              "    <tr>\n",
              "      <th>2021</th>\n",
              "      <td>64930012656</td>\n",
              "      <td>68054700</td>\n",
              "    </tr>\n",
              "    <tr>\n",
              "      <th>2022</th>\n",
              "      <td>65923668228</td>\n",
              "      <td>68886900</td>\n",
              "    </tr>\n",
              "    <tr>\n",
              "      <th>2023</th>\n",
              "      <td>61079580750</td>\n",
              "      <td>73500500</td>\n",
              "    </tr>\n",
              "    <tr>\n",
              "      <th>2024</th>\n",
              "      <td>61034918717</td>\n",
              "      <td>77490500</td>\n",
              "    </tr>\n",
              "  </tbody>\n",
              "</table>\n",
              "</div>"
            ],
            "text/plain": [
              "                y         x\n",
              "2015  36006381096  53625600\n",
              "2016  41809696036  53446600\n",
              "2017  37257792859  54066500\n",
              "2018  44400894693  57145800\n",
              "2019  48437970761  60930800\n",
              "2020  64407751577  61222200\n",
              "2021  64930012656  68054700\n",
              "2022  65923668228  68886900\n",
              "2023  61079580750  73500500\n",
              "2024  61034918717  77490500"
            ]
          },
          "execution_count": 3,
          "metadata": {},
          "output_type": "execute_result"
        }
      ],
      "source": [
        "# y = var siniestralidad agregada\n",
        "df = pd.DataFrame(index=range(2015,2025))\n",
        "df['y'] = [36006381096,41809696036,37257792859,44400894693,48437970761,64407751577,64930012656,65923668228,61079580750,61034918717]\n",
        "# x = primas imputadas\n",
        "df['x'] = [53625600, 53446600, 54066500, 57145800, 60930800, 61222200, 68054700, 68886900, 73500500, 77490500] # Primas\n",
        "df"
      ]
    },
    {
      "cell_type": "code",
      "execution_count": 4,
      "metadata": {
        "colab": {
          "base_uri": "https://localhost:8080/",
          "height": 463
        },
        "id": "w2562YRAUmlu",
        "outputId": "45f27b79-c179-42a0-80ff-76540efb1e81"
      },
      "outputs": [
        {
          "data": {
            "image/png": "[encoded data removed]",
            "text/plain": [
              "<Figure size 640x480 with 1 Axes>"
            ]
          },
          "metadata": {},
          "output_type": "display_data"
        }
      ],
      "source": [
        "sinies = df['y'].to_list()\n",
        "primas = df['x'].to_list()\n",
        "\n",
        "plt.style.use('ggplot')\n",
        "mymodel = np.poly1d(np.polyfit(primas, sinies, 2))\n",
        "myline = np.linspace(min(df.x), max(df.x),500)\n",
        "plt.scatter(primas, sinies, color='c')\n",
        "plt.plot(myline, mymodel(myline))\n",
        "for i, txt in enumerate(list(df.index)):\n",
        "    plt.annotate(txt, (primas[i], sinies[i]))\n",
        "plt.show()\n"
      ]
    },
    {
      "cell_type": "code",
      "execution_count": 5,
      "metadata": {
        "colab": {
          "base_uri": "https://localhost:8080/"
        },
        "id": "HN2wGstFUmlv",
        "outputId": "5332739b-1e03-44da-9cc3-b40bb427c33e"
      },
      "outputs": [
        {
          "name": "stdout",
          "output_type": "stream",
          "text": [
            "Intercept   -1.975756e+10\n",
            "x            1.150380e+03\n",
            "dtype: float64\n",
            "R^2:  0.6806839547757573\n",
            "                            OLS Regression Results                            \n",
            "==============================================================================\n",
            "Dep. Variable:                      y   R-squared:                       0.681\n",
            "Model:                            OLS   Adj. R-squared:                  0.641\n",
            "Method:                 Least Squares   F-statistic:                     17.05\n",
            "Date:                Tue, 06 May 2025   Prob (F-statistic):            0.00330\n",
            "Time:                        18:43:27   Log-Likelihood:                -240.14\n",
            "No. Observations:                  10   AIC:                             484.3\n",
            "Df Residuals:                       8   BIC:                             484.9\n",
            "Df Model:                           1                                         \n",
            "Covariance Type:            nonrobust                                         \n",
            "==============================================================================\n",
            "                 coef    std err          t      P>|t|      [0.025      0.975]\n",
            "------------------------------------------------------------------------------\n",
            "Intercept  -1.976e+10   1.77e+10     -1.119      0.296   -6.05e+10     2.1e+10\n",
            "x           1150.3797    278.570      4.130      0.003     507.997    1792.763\n",
            "==============================================================================\n",
            "Omnibus:                        1.974   Durbin-Watson:                   1.182\n",
            "Prob(Omnibus):                  0.373   Jarque-Bera (JB):                1.075\n",
            "Skew:                           0.775   Prob(JB):                        0.584\n",
            "Kurtosis:                       2.576   Cond. No.                     4.87e+08\n",
            "==============================================================================\n",
            "\n",
            "Notes:\n",
            "[1] Standard Errors assume that the covariance matrix of the errors is correctly specified.\n",
            "[2] The condition number is large, 4.87e+08. This might indicate that there are\n",
            "strong multicollinearity or other numerical problems.\n"
          ]
        },
        {
          "name": "stderr",
          "output_type": "stream",
          "text": [
            "c:\\Program Files\\Python312\\Lib\\site-packages\\scipy\\stats\\_axis_nan_policy.py:531: UserWarning: kurtosistest only valid for n>=20 ... continuing anyway, n=10\n",
            "  res = hypotest_fun_out(*samples, **kwds)\n"
          ]
        }
      ],
      "source": [
        "#formula = 'y ~ x + I(x**2)'\n",
        "formula = 'y ~ (x ** 2) + x'\n",
        "result = ols(formula, df).fit()\n",
        "print(result.params)\n",
        "#Intercept, y = result.params\n",
        "print('R^2: ', result.rsquared)\n",
        "print(result.summary())"
      ]
    }
  ],
  "metadata": {
    "colab": {
      "provenance": []
    },
    "kernelspec": {
      "display_name": "Python 3",
      "language": "python",
      "name": "python3"
    },
    "language_info": {
      "codemirror_mode": {
        "name": "ipython",
        "version": 3
      },
      "file_extension": ".py",
      "mimetype": "text/x-python",
      "name": "python",
      "nbconvert_exporter": "python",
      "pygments_lexer": "ipython3",
      "version": "3.12.5"
    }
  },
  "nbformat": 4,
  "nbformat_minor": 0
}
