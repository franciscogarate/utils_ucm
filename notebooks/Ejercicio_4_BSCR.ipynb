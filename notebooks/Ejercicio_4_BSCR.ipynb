{
 "cells": [
  {
   "cell_type": "markdown",
   "metadata": {},
   "source": [
    "# Ejercicio 2"
   ]
  },
  {
   "cell_type": "markdown",
   "metadata": {},
   "source": [
    "$SCR Basico = \\sqrt{\\sum_{i,j} Corr_{i,j} \\cdot SCR_{i} \\cdot SCR_{j}}$\n",
    "\n",
    "Dados los siguientes valores de los diferentes submódulos de SCR:\n",
    "\n",
    "| Mercado | Crédito | Vida | Salud | No Vida |\n",
    "| --- | --- | --- | --- | --- |\n",
    "| 95.000 | 65.000 | 25.000 | 35.000 | 125.000 |\n",
    "\n",
    "Se pide:\n",
    "* Calcular el BSCR aplicando la matriz de correlaciones del Reglamento Delegado de Solvencia II:\n",
    "\n",
    "\n",
    "|  a | b  | c  | d  |  e |\n",
    "| --- | --- | --- | --- | --- |\n",
    "| 1 | 0.25 | 0.25 | 0.25 | 0.25 |\n",
    "| 0.25 | 1 | 0.25 | 0.25 | 0.5 |\n",
    "| 0.25 | 0.25 | 1 | 0.25 | 0 |\n",
    "| 0.25 | 0.25 | 0.25 | 1 | 0 |\n",
    "| 0.25 | 0.5 | 0 | 0 | 1 |"
   ]
  },
  {
   "cell_type": "code",
   "execution_count": 1,
   "metadata": {},
   "outputs": [
    {
     "name": "stdout",
     "output_type": "stream",
     "text": [
      "230461.49352983027\n"
     ]
    }
   ],
   "source": [
    "import numpy as np\n",
    "\n",
    "SubSCR = np.array([95000,65000,25000,35000,125000])\n",
    "\n",
    "MatCorBSCR = np.array([[1, 0.25, 0.25, 0.25, 0.25],\n",
    "                        [0.25, 1, 0.25, 0.25, 0.5],\n",
    "                        [0.25, 0.25, 1, 0.25, 0],\n",
    "                        [0.25, 0.25, 0.25, 1, 0],\n",
    "                        [0.25, 0.5, 0, 0, 1]])\n",
    "                        \n",
    "#BasicSCR = np.sqrt(np.dot(np.dot(SubSCR, MatCorBSCR),SubSCR.T))\n",
    "BasicSCR = np.sqrt(SubSCR @ MatCorBSCR @ SubSCR.T)\n",
    "\n",
    "print(BasicSCR)"
   ]
  },
  {
   "cell_type": "markdown",
   "metadata": {},
   "source": [
    "*  Calcular el efecto de diversificación:"
   ]
  },
  {
   "cell_type": "code",
   "execution_count": 2,
   "metadata": {},
   "outputs": [
    {
     "name": "stdout",
     "output_type": "stream",
     "text": [
      "114538.50647016973\n"
     ]
    }
   ],
   "source": [
    "print(SubSCR.sum() - BasicSCR)"
   ]
  }
 ],
 "metadata": {
  "kernelspec": {
   "display_name": "Python 3 (ipykernel)",
   "language": "python",
   "name": "python3"
  },
  "language_info": {
   "codemirror_mode": {
    "name": "ipython",
    "version": 3
   },
   "file_extension": ".py",
   "mimetype": "text/x-python",
   "name": "python",
   "nbconvert_exporter": "python",
   "pygments_lexer": "ipython3",
   "version": "3.12.2"
  }
 },
 "nbformat": 4,
 "nbformat_minor": 4
}
