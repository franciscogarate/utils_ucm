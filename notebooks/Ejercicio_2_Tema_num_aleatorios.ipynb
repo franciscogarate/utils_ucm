{
  "nbformat": 4,
  "nbformat_minor": 0,
  "metadata": {
    "colab": {
      "provenance": [],
      "authorship_tag": "ABX9TyMMR7ShTjQOsrI5Pcg5Diwf"
    },
    "kernelspec": {
      "name": "ir",
      "display_name": "R"
    },
    "language_info": {
      "name": "R"
    }
  },
  "cells": [
    {
      "cell_type": "markdown",
      "source": [
        "# Ejercicio 2\n",
        "$\\mu = 5$\n",
        "$x = \\dfrac{1}{2}$"
      ],
      "metadata": {
        "id": "rXzKWmWNogR4"
      }
    },
    {
      "cell_type": "code",
      "source": [
        "variable <- 5\n",
        "variable"
      ],
      "metadata": {
        "colab": {
          "base_uri": "https://localhost:8080/",
          "height": 34
        },
        "id": "MRav5LMVpZXS",
        "outputId": "79a9e013-7c4c-4327-9917-ccbc03420ad1"
      },
      "execution_count": 1,
      "outputs": [
        {
          "output_type": "display_data",
          "data": {
            "text/html": [
              "5"
            ],
            "text/markdown": "5",
            "text/latex": "5",
            "text/plain": [
              "[1] 5"
            ]
          },
          "metadata": {}
        }
      ]
    }
  ]
}