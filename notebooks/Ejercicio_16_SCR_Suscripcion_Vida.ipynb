{
  "cells": [
    {
      "cell_type": "code",
      "execution_count": 16,
      "metadata": {
        "colab": {
          "base_uri": "https://localhost:8080/"
        },
        "id": "3ljRlgB_NtYc",
        "outputId": "e4b7c197-dea6-457f-d644-ad09f6abbf40"
      },
      "outputs": [
        {
          "name": "stderr",
          "output_type": "stream",
          "text": [
            "fatal: destination path 'utils_ucm' already exists and is not an empty directory.\n"
          ]
        }
      ],
      "source": [
        "!git clone https://github.com/franciscogarate/utils_ucm"
      ]
    },
    {
      "cell_type": "code",
      "execution_count": 17,
      "metadata": {
        "colab": {
          "base_uri": "https://localhost:8080/"
        },
        "id": "6A7BGF4Jp-AH",
        "outputId": "b669768c-b60b-489e-9449-71af8b3d66e8"
      },
      "outputs": [
        {
          "name": "stdout",
          "output_type": "stream",
          "text": [
            "Requirement already satisfied: pyliferisk in c:\\users\\fgara\\appdata\\local\\programs\\python\\python312\\lib\\site-packages (1.12.0)\n"
          ]
        },
        {
          "name": "stderr",
          "output_type": "stream",
          "text": [
            "\n",
            "[notice] A new release of pip is available: 24.2 -> 25.0.1\n",
            "[notice] To update, run: python.exe -m pip install --upgrade pip\n"
          ]
        }
      ],
      "source": [
        "!pip install pyliferisk"
      ]
    },
    {
      "cell_type": "code",
      "execution_count": 18,
      "metadata": {
        "id": "e91EHdxjNxNc"
      },
      "outputs": [],
      "source": [
        "import pandas as pd\n",
        "import numpy as np"
      ]
    },
    {
      "cell_type": "code",
      "execution_count": 19,
      "metadata": {
        "id": "bVpbK9YjzbFX"
      },
      "outputs": [],
      "source": [
        "from utils_ucm import clr"
      ]
    },
    {
      "cell_type": "code",
      "execution_count": 20,
      "metadata": {
        "id": "SjuLh3vxqFH4"
      },
      "outputs": [],
      "source": [
        "from pyliferisk import MortalityTable, lx\n",
        "from pyliferisk.mortalitytables import PASEM2020_Decesos_M_2ord\n",
        "mt = MortalityTable(qx=PASEM2020_Decesos_M_2ord)"
      ]
    },
    {
      "cell_type": "code",
      "execution_count": 21,
      "metadata": {},
      "outputs": [],
      "source": [
        "def incr_capital(capital, t):\n",
        "  return capital * (1 + 0.015) ** t"
      ]
    },
    {
      "cell_type": "code",
      "execution_count": 22,
      "metadata": {},
      "outputs": [],
      "source": [
        "escenario = 'Base'\n",
        "shock_mort = False\n",
        "shock_c_up = False\n",
        "shock_c_do = False\n",
        "shock_c_ma = False\n",
        "shock_gast = False\n",
        "shock_cat_ = False"
      ]
    },
    {
      "cell_type": "code",
      "execution_count": 23,
      "metadata": {
        "colab": {
          "base_uri": "https://localhost:8080/",
          "height": 206
        },
        "collapsed": true,
        "id": "ZSrWsXZwOfVA",
        "outputId": "2aea883d-e59f-476d-e541-9fd9f590c376"
      },
      "outputs": [],
      "source": [
        "edad = 50\n",
        "df = pd.DataFrame(pd.date_range(start='2024-12-31',periods=(mt.w -edad),freq='YE'), columns=['Fecha'])\n",
        "df['edad'] = edad + df.index\n",
        "df['t'] = df.index\n",
        "df['lx'] = df['edad'].apply(lambda x: mt.lx[x+1] if x <= mt.w else 0)\n",
        "df['qx'] = df['lx'].diff(-1).fillna(0)/df['lx'][0]\n",
        "df['sum_qx'] = df['qx'].cumsum()\n",
        "df['px'] = 1 - df['sum_qx']\n",
        "df['capital'] = incr_capital(5000, df.t)\n",
        "df['pagos'] = df['capital'] * df['qx']\n",
        "df['caida'] = 0.03\n",
        "df['polizas'] = (1 - df['caida']).cumprod()\n",
        "df['clr'] = df['t'].apply(lambda t: clr[t])\n",
        "df['factor_desc'] = df.apply(lambda x: 1 / (1 + x.clr) ** (x.t), axis=1)\n",
        "df['polizas_benef'] =  df['px'] * df['polizas']\n",
        "df['pagos_prob'] = df['pagos'] * df['polizas_benef']\n",
        "df['gastos'] = df['capital'] * 0.01\n",
        "df['gastos_prob'] = df['gastos'] * df['polizas_benef']\n",
        "df['salidas_prob'] = df['pagos_prob'] + df['gastos_prob']\n",
        "#df.salidas_prob @ df.factor_desc"
      ]
    },
    {
      "cell_type": "code",
      "execution_count": 25,
      "metadata": {},
      "outputs": [],
      "source": [
        "df.to_excel('Flujos2.xlsx', sheet_name=f'{escenario}')\n"
      ]
    }
  ],
  "metadata": {
    "colab": {
      "provenance": []
    },
    "kernelspec": {
      "display_name": "Python 3",
      "name": "python3"
    },
    "language_info": {
      "codemirror_mode": {
        "name": "ipython",
        "version": 3
      },
      "file_extension": ".py",
      "mimetype": "text/x-python",
      "name": "python",
      "nbconvert_exporter": "python",
      "pygments_lexer": "ipython3",
      "version": "3.12.5"
    }
  },
  "nbformat": 4,
  "nbformat_minor": 0
}
