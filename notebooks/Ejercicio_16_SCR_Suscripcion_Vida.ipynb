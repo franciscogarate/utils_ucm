{
  "cells": [
    {
      "cell_type": "code",
      "execution_count": 1,
      "metadata": {
        "colab": {
          "base_uri": "https://localhost:8080/"
        },
        "id": "3ljRlgB_NtYc",
        "outputId": "666d8d78-20ba-4d44-f250-3a87ec662c75"
      },
      "outputs": [
        {
          "output_type": "stream",
          "name": "stdout",
          "text": [
            "Cloning into 'utils_ucm'...\n",
            "remote: Enumerating objects: 230, done.\u001b[K\n",
            "remote: Counting objects: 100% (230/230), done.\u001b[K\n",
            "remote: Compressing objects: 100% (184/184), done.\u001b[K\n",
            "remote: Total 230 (delta 120), reused 118 (delta 43), pack-reused 0 (from 0)\u001b[K\n",
            "Receiving objects: 100% (230/230), 1.59 MiB | 5.17 MiB/s, done.\n",
            "Resolving deltas: 100% (120/120), done.\n"
          ]
        }
      ],
      "source": [
        "!git clone https://github.com/franciscogarate/utils_ucm"
      ]
    },
    {
      "cell_type": "code",
      "execution_count": 2,
      "metadata": {
        "colab": {
          "base_uri": "https://localhost:8080/"
        },
        "id": "6A7BGF4Jp-AH",
        "outputId": "37db781b-7137-44b1-b93a-63eff069b15c"
      },
      "outputs": [
        {
          "output_type": "stream",
          "name": "stdout",
          "text": [
            "Collecting pyliferisk\n",
            "  Downloading pyliferisk-1.12.0-py3-none-any.whl.metadata (6.4 kB)\n",
            "Downloading pyliferisk-1.12.0-py3-none-any.whl (39 kB)\n",
            "Installing collected packages: pyliferisk\n",
            "Successfully installed pyliferisk-1.12.0\n"
          ]
        }
      ],
      "source": [
        "!pip install pyliferisk"
      ]
    },
    {
      "cell_type": "code",
      "execution_count": 3,
      "metadata": {
        "id": "e91EHdxjNxNc"
      },
      "outputs": [],
      "source": [
        "import pandas as pd\n",
        "import numpy as np"
      ]
    },
    {
      "cell_type": "code",
      "execution_count": 4,
      "metadata": {
        "id": "bVpbK9YjzbFX"
      },
      "outputs": [],
      "source": [
        "from utils_ucm import clr"
      ]
    },
    {
      "cell_type": "code",
      "execution_count": 5,
      "metadata": {
        "id": "SjuLh3vxqFH4"
      },
      "outputs": [],
      "source": [
        "from pyliferisk import MortalityTable, lx\n",
        "from pyliferisk.mortalitytables import PASEM2020_Decesos_M_2ord\n",
        "mt = MortalityTable(qx=PASEM2020_Decesos_M_2ord)"
      ]
    },
    {
      "cell_type": "code",
      "execution_count": 6,
      "metadata": {
        "id": "ixlENE90xh8a"
      },
      "outputs": [],
      "source": [
        "def incr_capital(capital, t):\n",
        "  return capital * (1 + 0.015) ** t"
      ]
    },
    {
      "cell_type": "code",
      "execution_count": 7,
      "metadata": {
        "id": "Fg5FWoEpxh8a"
      },
      "outputs": [],
      "source": [
        "escenario = 'Base'\n",
        "shock_mort = False\n",
        "shock_c_up = False\n",
        "shock_c_do = False\n",
        "shock_c_ma = False\n",
        "shock_gast = False\n",
        "shock_cat_ = False"
      ]
    },
    {
      "cell_type": "code",
      "execution_count": 11,
      "metadata": {
        "colab": {
          "base_uri": "https://localhost:8080/"
        },
        "collapsed": true,
        "id": "ZSrWsXZwOfVA",
        "outputId": "86d4322d-1876-4902-d392-c920736792bc"
      },
      "outputs": [
        {
          "output_type": "execute_result",
          "data": {
            "text/plain": [
              "2404.4186468694716"
            ]
          },
          "metadata": {},
          "execution_count": 11
        }
      ],
      "source": [
        "edad = 50\n",
        "df = pd.DataFrame(pd.date_range(start='2024-12-31',periods=(mt.w -edad),freq='YE'), columns=['Fecha'])\n",
        "df['edad'] = edad + df.index\n",
        "df['t'] = df.index\n",
        "df['lx'] = df['edad'].apply(lambda x: mt.lx[x+1] if x <= mt.w else 0)\n",
        "df['qx'] = df['lx'].diff(-1).fillna(0)/df['lx'][0]\n",
        "df['sum_qx'] = df['qx'].cumsum()\n",
        "df['px'] = 1 - df['sum_qx']\n",
        "df['capital'] = incr_capital(5000, df.t)\n",
        "df['pagos'] = df['capital'] * df['qx']\n",
        "df['caida'] = 0.03\n",
        "df['polizas'] = (1 - df['caida']).cumprod()\n",
        "df['clr'] = df['t'].apply(lambda t: clr[t])\n",
        "df['factor_desc'] = df.apply(lambda x: 1 / (1 + x.clr) ** (x.t), axis=1)\n",
        "df['polizas_benef'] =  df['px'] * df['polizas']\n",
        "df['pagos_prob'] = df['pagos'] * df['polizas']\n",
        "df['gastos'] = df['capital'] * 0.01\n",
        "df['gastos_prob'] = df['gastos'] * df['polizas_benef']\n",
        "df['salidas_prob'] = df['pagos_prob'] + df['gastos_prob']\n",
        "df.salidas_prob @ df.factor_desc"
      ]
    },
    {
      "cell_type": "code",
      "execution_count": 9,
      "metadata": {
        "id": "HdHf3tKlxh8a"
      },
      "outputs": [],
      "source": [
        "df.to_excel('Flujos2.xlsx', sheet_name=f'{escenario}')\n"
      ]
    }
  ],
  "metadata": {
    "colab": {
      "provenance": []
    },
    "kernelspec": {
      "display_name": "Python 3",
      "name": "python3"
    },
    "language_info": {
      "codemirror_mode": {
        "name": "ipython",
        "version": 3
      },
      "file_extension": ".py",
      "mimetype": "text/x-python",
      "name": "python",
      "nbconvert_exporter": "python",
      "pygments_lexer": "ipython3",
      "version": "3.12.5"
    }
  },
  "nbformat": 4,
  "nbformat_minor": 0
}