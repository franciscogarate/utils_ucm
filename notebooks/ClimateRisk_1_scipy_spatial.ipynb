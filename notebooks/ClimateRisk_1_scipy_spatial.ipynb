{
  "cells": [
    {
      "cell_type": "markdown",
      "metadata": {
        "id": "view-in-github",
        "colab_type": "text"
      },
      "source": [
        "<a href=\"https://colab.research.google.com/github/franciscogarate/utils_ucm/blob/master/notebooks/ClimateRisk_1_scipy_spatial.ipynb\" target=\"_parent\"><img src=\"https://colab.research.google.com/assets/colab-badge.svg\" alt=\"Open In Colab\"/></a>"
      ]
    },
    {
      "cell_type": "markdown",
      "metadata": {
        "id": "WFFhkI_XX2X7"
      },
      "source": [
        "## Librería Spatial\n",
        "La librería spatial de SciPy en Python es una herramienta potente y versátil para el cálculo y análisis de problemas espaciales y geométricos. Ofrece una amplia gama de funciones que facilitan la manipulación y el análisis de datos espaciales.\n"
      ]
    },
    {
      "cell_type": "code",
      "execution_count": 1,
      "metadata": {
        "colab": {
          "base_uri": "https://localhost:8080/",
          "height": 522
        },
        "id": "Bo2isOh3X2X9",
        "outputId": "200facab-f17f-4b9d-9244-819b69af0e3e"
      },
      "outputs": [
        {
          "output_type": "display_data",
          "data": {
            "text/plain": [
              "<Figure size 600x600 with 1 Axes>"
            ],
            "image/png": "[encoded data removed]"
          },
          "metadata": {}
        }
      ],
      "source": [
        "import numpy as np\n",
        "from scipy.spatial import distance\n",
        "import matplotlib.pyplot as plt\n",
        "\n",
        "# Definir los puntos\n",
        "punto_central = np.array([2, 2])\n",
        "punto_aux1 = np.array([3, 5])\n",
        "punto_aux2 = np.array([6, 1])\n",
        "punto_aux3 = np.array([0, 3])\n",
        "\n",
        "# Grafico los puntos:\n",
        "plt.figure(figsize=(6, 6))\n",
        "plt.scatter(punto_central[0],punto_central[1])\n",
        "plt.scatter(punto_aux1[0],punto_aux1[1])\n",
        "plt.scatter(punto_aux2[0],punto_aux2[1])\n",
        "plt.scatter(punto_aux3[0],punto_aux3[1])\n",
        "\n",
        "nombres = ['Punto central', 'Punto 1', 'Punto 2', 'Punto 3']\n",
        "for nombre, punto in zip(nombres, [punto_central, punto_aux1, punto_aux2, punto_aux3]):\n",
        "    plt.annotate(nombre, punto, textcoords=\"offset points\", xytext=(5,5), ha='center')\n",
        "plt.axis('equal')\n",
        "plt.show()"
      ]
    },
    {
      "cell_type": "markdown",
      "metadata": {
        "id": "y9ZY5ixbX2X-"
      },
      "source": [
        "Cálculo las distancias con distance.euclidean"
      ]
    },
    {
      "cell_type": "code",
      "execution_count": 2,
      "metadata": {
        "colab": {
          "base_uri": "https://localhost:8080/"
        },
        "id": "qq0s_t0NX2X_",
        "outputId": "0f9b0fe2-fd2f-4557-ca04-a057313f80a7"
      },
      "outputs": [
        {
          "output_type": "execute_result",
          "data": {
            "text/plain": [
              "[np.float64(3.1622776601683795),\n",
              " np.float64(4.123105625617661),\n",
              " np.float64(2.23606797749979)]"
            ]
          },
          "metadata": {},
          "execution_count": 2
        }
      ],
      "source": [
        "distancia_1 = distance.euclidean(punto_central, punto_aux1)\n",
        "distancia_2 = distance.euclidean(punto_central, punto_aux2)\n",
        "distancia_3 = distance.euclidean(punto_central, punto_aux3)\n",
        "\n",
        "# Determinar el punto más lejano\n",
        "distancias = [distancia_1, distancia_2, distancia_3]\n",
        "distancias"
      ]
    },
    {
      "cell_type": "code",
      "execution_count": 3,
      "metadata": {
        "colab": {
          "base_uri": "https://localhost:8080/"
        },
        "id": "xp0iHiZVX2X_",
        "outputId": "2ec0e8c8-e51e-4791-b9f3-07c575045707"
      },
      "outputs": [
        {
          "output_type": "stream",
          "name": "stdout",
          "text": [
            "El punto más lejano al punto central es el punto auxiliar 2\n"
          ]
        }
      ],
      "source": [
        "punto_mas_lejano = np.argmax(distancias) + 1  # Sumamos 1 porque los índices en Python empiezan en 0\n",
        "\n",
        "print(f\"El punto más lejano al punto central es el punto auxiliar {punto_mas_lejano}\")"
      ]
    }
  ],
  "metadata": {
    "kernelspec": {
      "display_name": "Python 3 (ipykernel)",
      "language": "python",
      "name": "python3"
    },
    "language_info": {
      "codemirror_mode": {
        "name": "ipython",
        "version": 3
      },
      "file_extension": ".py",
      "mimetype": "text/x-python",
      "name": "python",
      "nbconvert_exporter": "python",
      "pygments_lexer": "ipython3",
      "version": "3.8.10"
    },
    "colab": {
      "provenance": [],
      "include_colab_link": true
    }
  },
  "nbformat": 4,
  "nbformat_minor": 0
}